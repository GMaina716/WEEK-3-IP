{
  "nbformat": 4,
  "nbformat_minor": 0,
  "metadata": {
    "colab": {
      "name": "Moringa_Data_Science_Prep_W3_Independent_Project_2021_05_George_Maina_Python",
      "provenance": [],
      "collapsed_sections": [],
      "authorship_tag": "ABX9TyMkrmhuAy71uMKdIOFnazDC",
      "include_colab_link": true
    },
    "kernelspec": {
      "name": "python3",
      "display_name": "Python 3"
    },
    "language_info": {
      "name": "python"
    }
  },
  "cells": [
    {
      "cell_type": "markdown",
      "metadata": {
        "id": "view-in-github",
        "colab_type": "text"
      },
      "source": [
        "<a href=\"https://colab.research.google.com/github/GMaina716/WEEK-3-IP/blob/main/Moringa_Data_Science_Prep_W3_Independent_Project_2021_05_George_Maina_Python.ipynb\" target=\"_parent\"><img src=\"https://colab.research.google.com/assets/colab-badge.svg\" alt=\"Open In Colab\"/></a>"
      ]
    },
    {
      "cell_type": "code",
      "metadata": {
        "id": "vH74O0kczRzY"
      },
      "source": [
        "# we start by uploading the necssary packages that we will need\n",
        "import pandas as pd\n",
        "import numpy as np\n",
        "import matplotlib.pyplot as plt\n",
        "import seaborn as sns"
      ],
      "execution_count": 1,
      "outputs": []
    },
    {
      "cell_type": "markdown",
      "metadata": {
        "id": "_e8_rJDCF9uC"
      },
      "source": [
        "**Data Understanding and Data Prepapration**"
      ]
    },
    {
      "cell_type": "markdown",
      "metadata": {
        "id": "KMjvyYafGRN9"
      },
      "source": [
        "On this section, we will upload the data sets,\n",
        "then combine the datasets with daily records into one dataset called telcom.\n",
        "We will look for any anormalies in the data such us missing value and outliers\n",
        "Missing values will be filled or dropped depending on the extent of their numbers\n",
        "COlumns with values that will not be needed in the analysis will be dropped.\n",
        "We will analyse the two datasets separately by looking at the statistical attributes of the data.\n",
        "We will also look at the shape, size and dimensions of the individual datasets. \n",
        "We also will check for the number of missing values and uniques values in the columns\n",
        "Where there are outliers, we will drop the rows with them.\n",
        "We will then combine the cells dataset and the telcom dataset"
      ]
    },
    {
      "cell_type": "code",
      "metadata": {
        "id": "-FlufRy4zwnd"
      },
      "source": [
        "#importing the datasets to be used \n",
        "#four datasets have been provided\n",
        "cell=pd.read_csv('/content/cellsgeo.csv',sep = ';')\n",
        "td1=pd.read_csv('/content/Telcom_dataset.csv')\n",
        "td2=pd.read_csv('/content/Telcom_dataset2.csv')\n",
        "td3=pd.read_csv('/content/Telcom_dataset3.csv')"
      ],
      "execution_count": 2,
      "outputs": []
    },
    {
      "cell_type": "code",
      "metadata": {
        "id": "i1ejij-N1KO6",
        "colab": {
          "base_uri": "https://localhost:8080/",
          "height": 133
        },
        "outputId": "01ac9989-ef17-4f33-cd17-87d33a5bc603"
      },
      "source": [
        "#tocreate a copy of the first dataset\n",
        "cells=cell\n",
        "cells.head(3)"
      ],
      "execution_count": 3,
      "outputs": [
        {
          "output_type": "execute_result",
          "data": {
            "text/html": [
              "<div>\n",
              "<style scoped>\n",
              "    .dataframe tbody tr th:only-of-type {\n",
              "        vertical-align: middle;\n",
              "    }\n",
              "\n",
              "    .dataframe tbody tr th {\n",
              "        vertical-align: top;\n",
              "    }\n",
              "\n",
              "    .dataframe thead th {\n",
              "        text-align: right;\n",
              "    }\n",
              "</style>\n",
              "<table border=\"1\" class=\"dataframe\">\n",
              "  <thead>\n",
              "    <tr style=\"text-align: right;\">\n",
              "      <th></th>\n",
              "      <th>Unnamed: 0</th>\n",
              "      <th>VILLES</th>\n",
              "      <th>STATUS</th>\n",
              "      <th>LOCALISATION</th>\n",
              "      <th>DECOUPZONE</th>\n",
              "      <th>ZONENAME</th>\n",
              "      <th>LONGITUDE</th>\n",
              "      <th>LATITUDE</th>\n",
              "      <th>REGION</th>\n",
              "      <th>AREA</th>\n",
              "      <th>CELL_ID</th>\n",
              "      <th>SITE_CODE</th>\n",
              "    </tr>\n",
              "  </thead>\n",
              "  <tbody>\n",
              "    <tr>\n",
              "      <th>0</th>\n",
              "      <td>0</td>\n",
              "      <td>ADJAME</td>\n",
              "      <td>In Service</td>\n",
              "      <td>ABIDJAN</td>\n",
              "      <td>\"Abidjan_EST</td>\n",
              "      <td>AGBANNEW</td>\n",
              "      <td>-4.000667</td>\n",
              "      <td>5.368194</td>\n",
              "      <td>LAGUNE</td>\n",
              "      <td>NaN</td>\n",
              "      <td>fbb2e75af3</td>\n",
              "      <td>0bb492ef17</td>\n",
              "    </tr>\n",
              "    <tr>\n",
              "      <th>1</th>\n",
              "      <td>1</td>\n",
              "      <td>ADJAME</td>\n",
              "      <td>In Service</td>\n",
              "      <td>ABIDJAN</td>\n",
              "      <td>\"Abidjan_EST</td>\n",
              "      <td>AGBANNEW</td>\n",
              "      <td>-4.000667</td>\n",
              "      <td>5.368194</td>\n",
              "      <td>LAGUNE</td>\n",
              "      <td>NaN</td>\n",
              "      <td>1502501d78</td>\n",
              "      <td>0bb492ef17</td>\n",
              "    </tr>\n",
              "    <tr>\n",
              "      <th>2</th>\n",
              "      <td>2</td>\n",
              "      <td>ADJAME</td>\n",
              "      <td>In Service</td>\n",
              "      <td>ABIDJAN</td>\n",
              "      <td>\"Abidjan_EST</td>\n",
              "      <td>AGBANNEW</td>\n",
              "      <td>-4.000667</td>\n",
              "      <td>5.368194</td>\n",
              "      <td>LAGUNE</td>\n",
              "      <td>NaN</td>\n",
              "      <td>0c2e182a0c</td>\n",
              "      <td>0bb492ef17</td>\n",
              "    </tr>\n",
              "  </tbody>\n",
              "</table>\n",
              "</div>"
            ],
            "text/plain": [
              "   Unnamed: 0  VILLES      STATUS  ... AREA     CELL_ID   SITE_CODE\n",
              "0           0  ADJAME  In Service  ...  NaN  fbb2e75af3  0bb492ef17\n",
              "1           1  ADJAME  In Service  ...  NaN  1502501d78  0bb492ef17\n",
              "2           2  ADJAME  In Service  ...  NaN  0c2e182a0c  0bb492ef17\n",
              "\n",
              "[3 rows x 12 columns]"
            ]
          },
          "metadata": {
            "tags": []
          },
          "execution_count": 3
        }
      ]
    },
    {
      "cell_type": "code",
      "metadata": {
        "colab": {
          "base_uri": "https://localhost:8080/"
        },
        "id": "HU4OHZM31PDm",
        "outputId": "c24ae89a-f988-4892-83da-37dd68777100"
      },
      "source": [
        "# we start by lookingat how our dataset is\n",
        "cells.info()"
      ],
      "execution_count": 4,
      "outputs": [
        {
          "output_type": "stream",
          "text": [
            "<class 'pandas.core.frame.DataFrame'>\n",
            "RangeIndex: 3974 entries, 0 to 3973\n",
            "Data columns (total 12 columns):\n",
            " #   Column        Non-Null Count  Dtype  \n",
            "---  ------        --------------  -----  \n",
            " 0   Unnamed: 0    3974 non-null   int64  \n",
            " 1   VILLES        3974 non-null   object \n",
            " 2   STATUS        3907 non-null   object \n",
            " 3   LOCALISATION  3974 non-null   object \n",
            " 4   DECOUPZONE    3974 non-null   object \n",
            " 5   ZONENAME      3968 non-null   object \n",
            " 6   LONGITUDE     3974 non-null   float64\n",
            " 7   LATITUDE      3974 non-null   float64\n",
            " 8   REGION        3974 non-null   object \n",
            " 9   AREA          3951 non-null   object \n",
            " 10  CELL_ID       3974 non-null   object \n",
            " 11  SITE_CODE     3974 non-null   object \n",
            "dtypes: float64(2), int64(1), object(9)\n",
            "memory usage: 372.7+ KB\n"
          ],
          "name": "stdout"
        }
      ]
    },
    {
      "cell_type": "code",
      "metadata": {
        "colab": {
          "base_uri": "https://localhost:8080/"
        },
        "id": "1XLKbbM61PE1",
        "outputId": "d533b9a5-9660-4927-adb9-bc87142d58ae"
      },
      "source": [
        "#from the cell above,w e see that there are columns with missing values\n",
        "# we will get the missing values and the columns they are in\n",
        "column_missing=cells.isna().sum()\n",
        "column_missing=column_missing[column_missing!=0]\n",
        "print('columns wit missing values:',len(column_missing))\n",
        "\n",
        "column_missing.sort_values(ascending=False)"
      ],
      "execution_count": 5,
      "outputs": [
        {
          "output_type": "stream",
          "text": [
            "columns wit missing values: 3\n"
          ],
          "name": "stdout"
        },
        {
          "output_type": "execute_result",
          "data": {
            "text/plain": [
              "STATUS      67\n",
              "AREA        23\n",
              "ZONENAME     6\n",
              "dtype: int64"
            ]
          },
          "metadata": {
            "tags": []
          },
          "execution_count": 5
        }
      ]
    },
    {
      "cell_type": "code",
      "metadata": {
        "id": "IQUMhAgp1PIR"
      },
      "source": [
        "# from the cell above, We observe that there are 3 columns with missing data\n",
        "# the columns are STATUS, ZONENAME,AREA\n",
        "# The 3 columns have little missing data and thus we can drop the rows with missing data in thos columns\n",
        "#status has 67 missing data points\n",
        "#zonename has 6 missing data points\n",
        "#area has 23 missing data points\n",
        "# we will fill the missing data points using different techniques"
      ],
      "execution_count": 6,
      "outputs": []
    },
    {
      "cell_type": "code",
      "metadata": {
        "colab": {
          "base_uri": "https://localhost:8080/",
          "height": 133
        },
        "id": "mAf_me1O1m3v",
        "outputId": "d43ade9e-fa96-4e64-9cf3-b9d68fc9a759"
      },
      "source": [
        "# to find the percentage of missing value points relative to their totals\n",
        "column_missing2=cells.isna().sum()/cells.isna().count().sort_values(ascending=False)\n",
        "column_missing2=column_missing2[column_missing2!=0]\n",
        "column_missing2.sort_values(ascending=False)\n",
        "\n",
        "\n",
        "#we the combine the percentage missing values and the number of missing values into one table using concat method\n",
        "missing_table=pd.concat([column_missing,column_missing2],axis=1,sort=False,keys=[\"total\",\"Percentage\"])\n",
        "missing_table"
      ],
      "execution_count": 7,
      "outputs": [
        {
          "output_type": "execute_result",
          "data": {
            "text/html": [
              "<div>\n",
              "<style scoped>\n",
              "    .dataframe tbody tr th:only-of-type {\n",
              "        vertical-align: middle;\n",
              "    }\n",
              "\n",
              "    .dataframe tbody tr th {\n",
              "        vertical-align: top;\n",
              "    }\n",
              "\n",
              "    .dataframe thead th {\n",
              "        text-align: right;\n",
              "    }\n",
              "</style>\n",
              "<table border=\"1\" class=\"dataframe\">\n",
              "  <thead>\n",
              "    <tr style=\"text-align: right;\">\n",
              "      <th></th>\n",
              "      <th>total</th>\n",
              "      <th>Percentage</th>\n",
              "    </tr>\n",
              "  </thead>\n",
              "  <tbody>\n",
              "    <tr>\n",
              "      <th>STATUS</th>\n",
              "      <td>67</td>\n",
              "      <td>0.016860</td>\n",
              "    </tr>\n",
              "    <tr>\n",
              "      <th>ZONENAME</th>\n",
              "      <td>6</td>\n",
              "      <td>0.001510</td>\n",
              "    </tr>\n",
              "    <tr>\n",
              "      <th>AREA</th>\n",
              "      <td>23</td>\n",
              "      <td>0.005788</td>\n",
              "    </tr>\n",
              "  </tbody>\n",
              "</table>\n",
              "</div>"
            ],
            "text/plain": [
              "          total  Percentage\n",
              "STATUS       67    0.016860\n",
              "ZONENAME      6    0.001510\n",
              "AREA         23    0.005788"
            ]
          },
          "metadata": {
            "tags": []
          },
          "execution_count": 7
        }
      ]
    },
    {
      "cell_type": "code",
      "metadata": {
        "id": "1V7HNLE-1m42"
      },
      "source": [
        "#We fill the columns with missing values\n",
        "cells['STATUS'].fillna(method='bfill',inplace=True)\n",
        "cells['ZONENAME'].fillna(method='bfill',inplace=True)\n",
        "cells['AREA'].fillna(\"unknown\",inplace=True)\n",
        "\n",
        "# we drop columns that we will not be using for our analysis\n",
        "cell.drop('Unnamed: 0',axis=1,inplace=True)\n",
        "cell.drop(['LONGITUDE','LATITUDE'],axis=1,inplace=True)"
      ],
      "execution_count": 8,
      "outputs": []
    },
    {
      "cell_type": "code",
      "metadata": {
        "colab": {
          "base_uri": "https://localhost:8080/",
          "height": 133
        },
        "id": "9hLbkKRn1m8G",
        "outputId": "1f7553bd-a9f0-4282-b50b-bd2e4bbf77c6"
      },
      "source": [
        "# a grimpse of how our dataset looks like\n",
        "cells.head(3)"
      ],
      "execution_count": 9,
      "outputs": [
        {
          "output_type": "execute_result",
          "data": {
            "text/html": [
              "<div>\n",
              "<style scoped>\n",
              "    .dataframe tbody tr th:only-of-type {\n",
              "        vertical-align: middle;\n",
              "    }\n",
              "\n",
              "    .dataframe tbody tr th {\n",
              "        vertical-align: top;\n",
              "    }\n",
              "\n",
              "    .dataframe thead th {\n",
              "        text-align: right;\n",
              "    }\n",
              "</style>\n",
              "<table border=\"1\" class=\"dataframe\">\n",
              "  <thead>\n",
              "    <tr style=\"text-align: right;\">\n",
              "      <th></th>\n",
              "      <th>VILLES</th>\n",
              "      <th>STATUS</th>\n",
              "      <th>LOCALISATION</th>\n",
              "      <th>DECOUPZONE</th>\n",
              "      <th>ZONENAME</th>\n",
              "      <th>REGION</th>\n",
              "      <th>AREA</th>\n",
              "      <th>CELL_ID</th>\n",
              "      <th>SITE_CODE</th>\n",
              "    </tr>\n",
              "  </thead>\n",
              "  <tbody>\n",
              "    <tr>\n",
              "      <th>0</th>\n",
              "      <td>ADJAME</td>\n",
              "      <td>In Service</td>\n",
              "      <td>ABIDJAN</td>\n",
              "      <td>\"Abidjan_EST</td>\n",
              "      <td>AGBANNEW</td>\n",
              "      <td>LAGUNE</td>\n",
              "      <td>unknown</td>\n",
              "      <td>fbb2e75af3</td>\n",
              "      <td>0bb492ef17</td>\n",
              "    </tr>\n",
              "    <tr>\n",
              "      <th>1</th>\n",
              "      <td>ADJAME</td>\n",
              "      <td>In Service</td>\n",
              "      <td>ABIDJAN</td>\n",
              "      <td>\"Abidjan_EST</td>\n",
              "      <td>AGBANNEW</td>\n",
              "      <td>LAGUNE</td>\n",
              "      <td>unknown</td>\n",
              "      <td>1502501d78</td>\n",
              "      <td>0bb492ef17</td>\n",
              "    </tr>\n",
              "    <tr>\n",
              "      <th>2</th>\n",
              "      <td>ADJAME</td>\n",
              "      <td>In Service</td>\n",
              "      <td>ABIDJAN</td>\n",
              "      <td>\"Abidjan_EST</td>\n",
              "      <td>AGBANNEW</td>\n",
              "      <td>LAGUNE</td>\n",
              "      <td>unknown</td>\n",
              "      <td>0c2e182a0c</td>\n",
              "      <td>0bb492ef17</td>\n",
              "    </tr>\n",
              "  </tbody>\n",
              "</table>\n",
              "</div>"
            ],
            "text/plain": [
              "   VILLES      STATUS LOCALISATION  ...     AREA     CELL_ID   SITE_CODE\n",
              "0  ADJAME  In Service      ABIDJAN  ...  unknown  fbb2e75af3  0bb492ef17\n",
              "1  ADJAME  In Service      ABIDJAN  ...  unknown  1502501d78  0bb492ef17\n",
              "2  ADJAME  In Service      ABIDJAN  ...  unknown  0c2e182a0c  0bb492ef17\n",
              "\n",
              "[3 rows x 9 columns]"
            ]
          },
          "metadata": {
            "tags": []
          },
          "execution_count": 9
        }
      ]
    },
    {
      "cell_type": "code",
      "metadata": {
        "colab": {
          "base_uri": "https://localhost:8080/"
        },
        "id": "aEowLWf93qUo",
        "outputId": "09b345b4-5867-4822-a944-fee716c0da5f"
      },
      "source": [
        "# to get the shape, size and dimesions of the dataset \n",
        "print('cells table has shape:',cells.shape)\n",
        "print('cells table is of size:',cells.size)\n",
        "print('cells table is of dimension:',cells.ndim)"
      ],
      "execution_count": 10,
      "outputs": [
        {
          "output_type": "stream",
          "text": [
            "cells table has shape: (3974, 9)\n",
            "cells table is of size: 35766\n",
            "cells table is of dimension: 2\n"
          ],
          "name": "stdout"
        }
      ]
    },
    {
      "cell_type": "code",
      "metadata": {
        "colab": {
          "base_uri": "https://localhost:8080/"
        },
        "id": "i4N0Bzmu2RP8",
        "outputId": "7e4d1431-10ed-4847-880a-8241bf8de254"
      },
      "source": [
        "# to look for the number of unique values in the columns\n",
        "for i in cells:\n",
        "    print(i,cells[i].nunique())\n",
        "\n",
        "# Interpretation of this is that\n",
        "#in the column vile, there are 504 unique cities/ town"
      ],
      "execution_count": 11,
      "outputs": [
        {
          "output_type": "stream",
          "text": [
            "VILLES 504\n",
            "STATUS 1\n",
            "LOCALISATION 2\n",
            "DECOUPZONE 15\n",
            "ZONENAME 33\n",
            "REGION 19\n",
            "AREA 7\n",
            "CELL_ID 3916\n",
            "SITE_CODE 1029\n"
          ],
          "name": "stdout"
        }
      ]
    },
    {
      "cell_type": "code",
      "metadata": {
        "colab": {
          "base_uri": "https://localhost:8080/",
          "height": 162
        },
        "id": "jQigeaz12RRD",
        "outputId": "811febe4-4001-4e28-f02f-32a779ee4f0f"
      },
      "source": [
        "# the describe method helps us to get summary characteristics of numerical values\n",
        "cells.describe()"
      ],
      "execution_count": 12,
      "outputs": [
        {
          "output_type": "execute_result",
          "data": {
            "text/html": [
              "<div>\n",
              "<style scoped>\n",
              "    .dataframe tbody tr th:only-of-type {\n",
              "        vertical-align: middle;\n",
              "    }\n",
              "\n",
              "    .dataframe tbody tr th {\n",
              "        vertical-align: top;\n",
              "    }\n",
              "\n",
              "    .dataframe thead th {\n",
              "        text-align: right;\n",
              "    }\n",
              "</style>\n",
              "<table border=\"1\" class=\"dataframe\">\n",
              "  <thead>\n",
              "    <tr style=\"text-align: right;\">\n",
              "      <th></th>\n",
              "      <th>VILLES</th>\n",
              "      <th>STATUS</th>\n",
              "      <th>LOCALISATION</th>\n",
              "      <th>DECOUPZONE</th>\n",
              "      <th>ZONENAME</th>\n",
              "      <th>REGION</th>\n",
              "      <th>AREA</th>\n",
              "      <th>CELL_ID</th>\n",
              "      <th>SITE_CODE</th>\n",
              "    </tr>\n",
              "  </thead>\n",
              "  <tbody>\n",
              "    <tr>\n",
              "      <th>count</th>\n",
              "      <td>3974</td>\n",
              "      <td>3974</td>\n",
              "      <td>3974</td>\n",
              "      <td>3974</td>\n",
              "      <td>3974</td>\n",
              "      <td>3974</td>\n",
              "      <td>3974</td>\n",
              "      <td>3974</td>\n",
              "      <td>3974</td>\n",
              "    </tr>\n",
              "    <tr>\n",
              "      <th>unique</th>\n",
              "      <td>504</td>\n",
              "      <td>1</td>\n",
              "      <td>2</td>\n",
              "      <td>15</td>\n",
              "      <td>33</td>\n",
              "      <td>19</td>\n",
              "      <td>7</td>\n",
              "      <td>3916</td>\n",
              "      <td>1029</td>\n",
              "    </tr>\n",
              "    <tr>\n",
              "      <th>top</th>\n",
              "      <td>COCODY</td>\n",
              "      <td>In Service</td>\n",
              "      <td>INTERIEUR</td>\n",
              "      <td>Grand-OUEST</td>\n",
              "      <td>ZONE D - Grand-OUEST</td>\n",
              "      <td>LAGUNE</td>\n",
              "      <td>ABIDJAN NORTH</td>\n",
              "      <td>6750e0fb7b</td>\n",
              "      <td>20387d4292</td>\n",
              "    </tr>\n",
              "    <tr>\n",
              "      <th>freq</th>\n",
              "      <td>354</td>\n",
              "      <td>3974</td>\n",
              "      <td>2305</td>\n",
              "      <td>528</td>\n",
              "      <td>530</td>\n",
              "      <td>1850</td>\n",
              "      <td>1222</td>\n",
              "      <td>39</td>\n",
              "      <td>42</td>\n",
              "    </tr>\n",
              "  </tbody>\n",
              "</table>\n",
              "</div>"
            ],
            "text/plain": [
              "        VILLES      STATUS LOCALISATION  ...           AREA     CELL_ID   SITE_CODE\n",
              "count     3974        3974         3974  ...           3974        3974        3974\n",
              "unique     504           1            2  ...              7        3916        1029\n",
              "top     COCODY  In Service    INTERIEUR  ...  ABIDJAN NORTH  6750e0fb7b  20387d4292\n",
              "freq       354        3974         2305  ...           1222          39          42\n",
              "\n",
              "[4 rows x 9 columns]"
            ]
          },
          "metadata": {
            "tags": []
          },
          "execution_count": 12
        }
      ]
    },
    {
      "cell_type": "code",
      "metadata": {
        "colab": {
          "base_uri": "https://localhost:8080/"
        },
        "id": "ywiVkNfm2RVg",
        "outputId": "c0823e20-df06-43fc-ad68-f86625efeee7"
      },
      "source": [
        "# to look at the most repeated values per column\n",
        "for i in cells:\n",
        "    print(i,cell[i].mode())"
      ],
      "execution_count": 13,
      "outputs": [
        {
          "output_type": "stream",
          "text": [
            "VILLES 0    COCODY\n",
            "dtype: object\n",
            "STATUS 0    In Service\n",
            "dtype: object\n",
            "LOCALISATION 0    INTERIEUR\n",
            "dtype: object\n",
            "DECOUPZONE 0    Grand-OUEST\n",
            "dtype: object\n",
            "ZONENAME 0    ZONE D - Grand-OUEST\n",
            "dtype: object\n",
            "REGION 0    LAGUNE\n",
            "dtype: object\n",
            "AREA 0    ABIDJAN NORTH\n",
            "dtype: object\n",
            "CELL_ID 0    6750e0fb7b\n",
            "dtype: object\n",
            "SITE_CODE 0    20387d4292\n",
            "dtype: object\n"
          ],
          "name": "stdout"
        }
      ]
    },
    {
      "cell_type": "code",
      "metadata": {
        "colab": {
          "base_uri": "https://localhost:8080/"
        },
        "id": "gPuSg3NS1m9o",
        "outputId": "ea8402e1-6d74-4ab7-8522-8f40371280d4"
      },
      "source": [
        "#to check the type of data types for each column\n",
        "cells.dtypes"
      ],
      "execution_count": 14,
      "outputs": [
        {
          "output_type": "execute_result",
          "data": {
            "text/plain": [
              "VILLES          object\n",
              "STATUS          object\n",
              "LOCALISATION    object\n",
              "DECOUPZONE      object\n",
              "ZONENAME        object\n",
              "REGION          object\n",
              "AREA            object\n",
              "CELL_ID         object\n",
              "SITE_CODE       object\n",
              "dtype: object"
            ]
          },
          "metadata": {
            "tags": []
          },
          "execution_count": 14
        }
      ]
    },
    {
      "cell_type": "code",
      "metadata": {
        "id": "AAlUJRkgIG5J"
      },
      "source": [
        ""
      ],
      "execution_count": 14,
      "outputs": []
    },
    {
      "cell_type": "code",
      "metadata": {
        "colab": {
          "base_uri": "https://localhost:8080/",
          "height": 133
        },
        "id": "k9pabp-e1nBS",
        "outputId": "8fa178e0-e30c-4918-84ec-19b350f1d03c"
      },
      "source": [
        "#merge the other three datasets into one big table\n",
        "telcom = pd.concat([td1,td2,td3],axis=0,sort=False)\n",
        "telcom.head(3)"
      ],
      "execution_count": 15,
      "outputs": [
        {
          "output_type": "execute_result",
          "data": {
            "text/html": [
              "<div>\n",
              "<style scoped>\n",
              "    .dataframe tbody tr th:only-of-type {\n",
              "        vertical-align: middle;\n",
              "    }\n",
              "\n",
              "    .dataframe tbody tr th {\n",
              "        vertical-align: top;\n",
              "    }\n",
              "\n",
              "    .dataframe thead th {\n",
              "        text-align: right;\n",
              "    }\n",
              "</style>\n",
              "<table border=\"1\" class=\"dataframe\">\n",
              "  <thead>\n",
              "    <tr style=\"text-align: right;\">\n",
              "      <th></th>\n",
              "      <th>PRODUCT</th>\n",
              "      <th>VALUE</th>\n",
              "      <th>DATE_TIME</th>\n",
              "      <th>CELL_ON_SITE</th>\n",
              "      <th>DW_A_NUMBER_INT</th>\n",
              "      <th>DW_B_NUMBER_INT</th>\n",
              "      <th>COUNTRY_A</th>\n",
              "      <th>COUNTRY_B</th>\n",
              "      <th>CELL_ID</th>\n",
              "      <th>SITE_ID</th>\n",
              "    </tr>\n",
              "  </thead>\n",
              "  <tbody>\n",
              "    <tr>\n",
              "      <th>0</th>\n",
              "      <td>Voice</td>\n",
              "      <td>0</td>\n",
              "      <td>04:37.0</td>\n",
              "      <td>1</td>\n",
              "      <td>49fae048b547780</td>\n",
              "      <td>1a49f8b0ded9de6</td>\n",
              "      <td>19e2e</td>\n",
              "      <td>19e2e</td>\n",
              "      <td>/TJNe+Mmtu</td>\n",
              "      <td>/TJNe+Mmtu</td>\n",
              "    </tr>\n",
              "    <tr>\n",
              "      <th>1</th>\n",
              "      <td>sms</td>\n",
              "      <td>0</td>\n",
              "      <td>05:25.0</td>\n",
              "      <td>0</td>\n",
              "      <td>7a54a6eaee19e65</td>\n",
              "      <td>93343ba6e41af95</td>\n",
              "      <td>19e2e</td>\n",
              "      <td>19e2e</td>\n",
              "      <td>/+cKZKIp41</td>\n",
              "      <td>/+cKZKIp41</td>\n",
              "    </tr>\n",
              "    <tr>\n",
              "      <th>2</th>\n",
              "      <td>sms</td>\n",
              "      <td>25</td>\n",
              "      <td>05:41.0</td>\n",
              "      <td>0</td>\n",
              "      <td>6008887b0207d82</td>\n",
              "      <td>7aacc9709ce0a20</td>\n",
              "      <td>19e2e</td>\n",
              "      <td>19e2e</td>\n",
              "      <td>/u0FSD+ahi</td>\n",
              "      <td>/u0FSD+ahi</td>\n",
              "    </tr>\n",
              "  </tbody>\n",
              "</table>\n",
              "</div>"
            ],
            "text/plain": [
              "  PRODUCT  VALUE DATE_TIME  ... COUNTRY_B     CELL_ID     SITE_ID\n",
              "0   Voice      0   04:37.0  ...     19e2e  /TJNe+Mmtu  /TJNe+Mmtu\n",
              "1     sms      0   05:25.0  ...     19e2e  /+cKZKIp41  /+cKZKIp41\n",
              "2     sms     25   05:41.0  ...     19e2e  /u0FSD+ahi  /u0FSD+ahi\n",
              "\n",
              "[3 rows x 10 columns]"
            ]
          },
          "metadata": {
            "tags": []
          },
          "execution_count": 15
        }
      ]
    },
    {
      "cell_type": "code",
      "metadata": {
        "colab": {
          "base_uri": "https://localhost:8080/"
        },
        "id": "GGuEA9Qm26YH",
        "outputId": "a63189cd-3e38-435f-edb8-173e74e30a6f"
      },
      "source": [
        "#look at its shape,size and dimensions\n",
        "print('telcom table has shape:',telcom.shape)\n",
        "print('telcom table is of size:',telcom.size)\n",
        "print('telcom table is of dimension:',telcom.ndim)"
      ],
      "execution_count": 16,
      "outputs": [
        {
          "output_type": "stream",
          "text": [
            "telcom table has shape: (15003, 10)\n",
            "telcom table is of size: 150030\n",
            "telcom table is of dimension: 2\n"
          ],
          "name": "stdout"
        }
      ]
    },
    {
      "cell_type": "code",
      "metadata": {
        "colab": {
          "base_uri": "https://localhost:8080/"
        },
        "id": "_k-p5ULD26Zd",
        "outputId": "fcee50a7-583d-461b-91a9-ae6da2d30e64"
      },
      "source": [
        "#getting a quick view of how our new dataset is\n",
        "telcom.info()"
      ],
      "execution_count": 17,
      "outputs": [
        {
          "output_type": "stream",
          "text": [
            "<class 'pandas.core.frame.DataFrame'>\n",
            "Int64Index: 15003 entries, 0 to 5000\n",
            "Data columns (total 10 columns):\n",
            " #   Column           Non-Null Count  Dtype \n",
            "---  ------           --------------  ----- \n",
            " 0   PRODUCT          15003 non-null  object\n",
            " 1   VALUE            15003 non-null  int64 \n",
            " 2   DATE_TIME        15003 non-null  object\n",
            " 3   CELL_ON_SITE     15003 non-null  object\n",
            " 4   DW_A_NUMBER_INT  15003 non-null  object\n",
            " 5   DW_B_NUMBER_INT  15003 non-null  object\n",
            " 6   COUNTRY_A        15003 non-null  object\n",
            " 7   COUNTRY_B        15003 non-null  object\n",
            " 8   CELL_ID          15003 non-null  object\n",
            " 9   SITE_ID          13006 non-null  object\n",
            "dtypes: int64(1), object(9)\n",
            "memory usage: 1.3+ MB\n"
          ],
          "name": "stdout"
        }
      ]
    },
    {
      "cell_type": "code",
      "metadata": {
        "colab": {
          "base_uri": "https://localhost:8080/"
        },
        "id": "Xs69x02y26dM",
        "outputId": "c60254b9-1414-4dbe-fa58-dd33885282c7"
      },
      "source": [
        "#looking for missing values in the new data fram\n",
        "missing3=telcom.isna().sum()\n",
        "missing3=missing3[missing3!=0]\n",
        "\n",
        "print('Number of missing variables per column', len(missing3))\n",
        "\n",
        "missing3.sort_values(ascending=False)"
      ],
      "execution_count": 18,
      "outputs": [
        {
          "output_type": "stream",
          "text": [
            "Number of missing variables per column 1\n"
          ],
          "name": "stdout"
        },
        {
          "output_type": "execute_result",
          "data": {
            "text/plain": [
              "SITE_ID    1997\n",
              "dtype: int64"
            ]
          },
          "metadata": {
            "tags": []
          },
          "execution_count": 18
        }
      ]
    },
    {
      "cell_type": "code",
      "metadata": {
        "id": "7QlxB28wRLeG"
      },
      "source": [
        "#from the column above we can see that site_ID hwas the only column with missing values"
      ],
      "execution_count": 19,
      "outputs": []
    },
    {
      "cell_type": "code",
      "metadata": {
        "colab": {
          "base_uri": "https://localhost:8080/",
          "height": 277
        },
        "id": "cHRDMnUv26e4",
        "outputId": "c0cd4141-27df-45bf-eb01-3837cf7d915d"
      },
      "source": [
        "telcom.describe()"
      ],
      "execution_count": 20,
      "outputs": [
        {
          "output_type": "execute_result",
          "data": {
            "text/html": [
              "<div>\n",
              "<style scoped>\n",
              "    .dataframe tbody tr th:only-of-type {\n",
              "        vertical-align: middle;\n",
              "    }\n",
              "\n",
              "    .dataframe tbody tr th {\n",
              "        vertical-align: top;\n",
              "    }\n",
              "\n",
              "    .dataframe thead th {\n",
              "        text-align: right;\n",
              "    }\n",
              "</style>\n",
              "<table border=\"1\" class=\"dataframe\">\n",
              "  <thead>\n",
              "    <tr style=\"text-align: right;\">\n",
              "      <th></th>\n",
              "      <th>VALUE</th>\n",
              "    </tr>\n",
              "  </thead>\n",
              "  <tbody>\n",
              "    <tr>\n",
              "      <th>count</th>\n",
              "      <td>15003.000000</td>\n",
              "    </tr>\n",
              "    <tr>\n",
              "      <th>mean</th>\n",
              "      <td>25.548690</td>\n",
              "    </tr>\n",
              "    <tr>\n",
              "      <th>std</th>\n",
              "      <td>152.916219</td>\n",
              "    </tr>\n",
              "    <tr>\n",
              "      <th>min</th>\n",
              "      <td>0.000000</td>\n",
              "    </tr>\n",
              "    <tr>\n",
              "      <th>25%</th>\n",
              "      <td>0.000000</td>\n",
              "    </tr>\n",
              "    <tr>\n",
              "      <th>50%</th>\n",
              "      <td>0.000000</td>\n",
              "    </tr>\n",
              "    <tr>\n",
              "      <th>75%</th>\n",
              "      <td>25.000000</td>\n",
              "    </tr>\n",
              "    <tr>\n",
              "      <th>max</th>\n",
              "      <td>12900.000000</td>\n",
              "    </tr>\n",
              "  </tbody>\n",
              "</table>\n",
              "</div>"
            ],
            "text/plain": [
              "              VALUE\n",
              "count  15003.000000\n",
              "mean      25.548690\n",
              "std      152.916219\n",
              "min        0.000000\n",
              "25%        0.000000\n",
              "50%        0.000000\n",
              "75%       25.000000\n",
              "max    12900.000000"
            ]
          },
          "metadata": {
            "tags": []
          },
          "execution_count": 20
        }
      ]
    },
    {
      "cell_type": "code",
      "metadata": {
        "colab": {
          "base_uri": "https://localhost:8080/",
          "height": 607
        },
        "id": "J-l9Q0Zc26iO",
        "outputId": "56a15128-8876-414e-c019-c9c47b83b637"
      },
      "source": [
        "#we observe that the records in the values column have an outlier\n",
        "#the maximum value is 12900. # this is illogical\n",
        "#we treat the value as an outlier.\n",
        "#outliers are droped\n",
        "plt.figure(figsize=(8,10))\n",
        "plt.title('Box Plot of Value to Look For Outliers',color='blue')\n",
        "plt.boxplot(telcom['VALUE'])\n",
        "plt.show()"
      ],
      "execution_count": 21,
      "outputs": [
        {
          "output_type": "display_data",
          "data": {
            "image/png": "[encoded data removed]",
            "text/plain": [
              "<Figure size 576x720 with 1 Axes>"
            ]
          },
          "metadata": {
            "tags": [],
            "needs_background": "light"
          }
        }
      ]
    },
    {
      "cell_type": "code",
      "metadata": {
        "colab": {
          "base_uri": "https://localhost:8080/"
        },
        "id": "pJ7xoyO_4ViP",
        "outputId": "2e08c38e-f56c-46a5-ec31-344122715eda"
      },
      "source": [
        "#from the boxplot we can observe that there are other 7 outlier values\n",
        "#most of the data lies between 0 and 2400\n",
        "#we willd drop rows with this outlier values\n",
        "#threshold=2400\n",
        "print(np.where(telcom['VALUE']>2400))\n",
        "todrop=telcom[(telcom['VALUE']==1128) & (telcom['VALUE']==6072) & (telcom['VALUE']==10460) & (telcom['VALUE']==11552) & (telcom['VALUE']==11838)].index\n",
        "telcom.drop(todrop , inplace=True)"
      ],
      "execution_count": 22,
      "outputs": [
        {
          "output_type": "stream",
          "text": [
            "(array([ 1228,  6072, 10460, 11552, 11838]),)\n"
          ],
          "name": "stdout"
        }
      ]
    },
    {
      "cell_type": "markdown",
      "metadata": {
        "id": "FDL-7btel5qh"
      },
      "source": [
        "To merge the two tables so as to have one dataset that we will use our analysis on"
      ]
    },
    {
      "cell_type": "code",
      "metadata": {
        "id": "6p5mu4jLjpTJ"
      },
      "source": [
        "# to merge the two tables\n",
        "# table cells and telecom"
      ],
      "execution_count": 23,
      "outputs": []
    },
    {
      "cell_type": "code",
      "metadata": {
        "id": "UJiwpA2WRbep"
      },
      "source": [
        "merged_telecom=cells.merge(telcom,how='inner',left_on=['SITE_CODE'],right_on=['SITE_ID'])"
      ],
      "execution_count": 24,
      "outputs": []
    },
    {
      "cell_type": "code",
      "metadata": {
        "colab": {
          "base_uri": "https://localhost:8080/",
          "height": 680
        },
        "id": "yj_Nwd69SATg",
        "outputId": "b49a71dd-2b37-4196-d831-06a33386cbcb"
      },
      "source": [
        "merged_telecom.tail(10)"
      ],
      "execution_count": 25,
      "outputs": [
        {
          "output_type": "execute_result",
          "data": {
            "text/html": [
              "<div>\n",
              "<style scoped>\n",
              "    .dataframe tbody tr th:only-of-type {\n",
              "        vertical-align: middle;\n",
              "    }\n",
              "\n",
              "    .dataframe tbody tr th {\n",
              "        vertical-align: top;\n",
              "    }\n",
              "\n",
              "    .dataframe thead th {\n",
              "        text-align: right;\n",
              "    }\n",
              "</style>\n",
              "<table border=\"1\" class=\"dataframe\">\n",
              "  <thead>\n",
              "    <tr style=\"text-align: right;\">\n",
              "      <th></th>\n",
              "      <th>VILLES</th>\n",
              "      <th>STATUS</th>\n",
              "      <th>LOCALISATION</th>\n",
              "      <th>DECOUPZONE</th>\n",
              "      <th>ZONENAME</th>\n",
              "      <th>REGION</th>\n",
              "      <th>AREA</th>\n",
              "      <th>CELL_ID_x</th>\n",
              "      <th>SITE_CODE</th>\n",
              "      <th>PRODUCT</th>\n",
              "      <th>VALUE</th>\n",
              "      <th>DATE_TIME</th>\n",
              "      <th>CELL_ON_SITE</th>\n",
              "      <th>DW_A_NUMBER_INT</th>\n",
              "      <th>DW_B_NUMBER_INT</th>\n",
              "      <th>COUNTRY_A</th>\n",
              "      <th>COUNTRY_B</th>\n",
              "      <th>CELL_ID_y</th>\n",
              "      <th>SITE_ID</th>\n",
              "    </tr>\n",
              "  </thead>\n",
              "  <tbody>\n",
              "    <tr>\n",
              "      <th>51187</th>\n",
              "      <td>ZUENOULA</td>\n",
              "      <td>In Service</td>\n",
              "      <td>INTERIEUR</td>\n",
              "      <td>Grand-NORD</td>\n",
              "      <td>ZONE A - Grand-NORD</td>\n",
              "      <td>MARAHOUE</td>\n",
              "      <td>CENTRE NORTH</td>\n",
              "      <td>f9f3e42589</td>\n",
              "      <td>61bee9c70c</td>\n",
              "      <td>Voice</td>\n",
              "      <td>0</td>\n",
              "      <td>00:39.0</td>\n",
              "      <td>1</td>\n",
              "      <td>2affb48ed0f7e90</td>\n",
              "      <td>55ad144fa74fddc</td>\n",
              "      <td>19e2e</td>\n",
              "      <td>19e2e</td>\n",
              "      <td>c92be6915d</td>\n",
              "      <td>61bee9c70c</td>\n",
              "    </tr>\n",
              "    <tr>\n",
              "      <th>51188</th>\n",
              "      <td>ZUENOULA</td>\n",
              "      <td>In Service</td>\n",
              "      <td>INTERIEUR</td>\n",
              "      <td>Grand-NORD</td>\n",
              "      <td>ZONE A - Grand-NORD</td>\n",
              "      <td>MARAHOUE</td>\n",
              "      <td>CENTRE NORTH</td>\n",
              "      <td>f9f3e42589</td>\n",
              "      <td>61bee9c70c</td>\n",
              "      <td>Voice</td>\n",
              "      <td>0</td>\n",
              "      <td>00:57.0</td>\n",
              "      <td>1</td>\n",
              "      <td>f7a5460e1aa90f9</td>\n",
              "      <td>f36373758b3fb9b</td>\n",
              "      <td>19e2e</td>\n",
              "      <td>19e2e</td>\n",
              "      <td>c92be6915d</td>\n",
              "      <td>61bee9c70c</td>\n",
              "    </tr>\n",
              "    <tr>\n",
              "      <th>51189</th>\n",
              "      <td>ZUENOULA</td>\n",
              "      <td>In Service</td>\n",
              "      <td>INTERIEUR</td>\n",
              "      <td>Grand-NORD</td>\n",
              "      <td>ZONE A - Grand-NORD</td>\n",
              "      <td>MARAHOUE</td>\n",
              "      <td>CENTRE NORTH</td>\n",
              "      <td>f9f3e42589</td>\n",
              "      <td>61bee9c70c</td>\n",
              "      <td>Voice</td>\n",
              "      <td>0</td>\n",
              "      <td>01:37.0</td>\n",
              "      <td>1</td>\n",
              "      <td>f7a5460e1aa90f9</td>\n",
              "      <td>f36373758b3fb9b</td>\n",
              "      <td>19e2e</td>\n",
              "      <td>19e2e</td>\n",
              "      <td>c92be6915d</td>\n",
              "      <td>61bee9c70c</td>\n",
              "    </tr>\n",
              "    <tr>\n",
              "      <th>51190</th>\n",
              "      <td>ZUENOULA</td>\n",
              "      <td>In Service</td>\n",
              "      <td>INTERIEUR</td>\n",
              "      <td>Grand-NORD</td>\n",
              "      <td>ZONE A - Grand-NORD</td>\n",
              "      <td>MARAHOUE</td>\n",
              "      <td>CENTRE NORTH</td>\n",
              "      <td>f9f3e42589</td>\n",
              "      <td>61bee9c70c</td>\n",
              "      <td>Voice</td>\n",
              "      <td>3</td>\n",
              "      <td>00:18.0</td>\n",
              "      <td>1</td>\n",
              "      <td>799cfb18cce4f9b</td>\n",
              "      <td>6f54dd640e46886</td>\n",
              "      <td>19e2e</td>\n",
              "      <td>19e2e</td>\n",
              "      <td>c92be6915d</td>\n",
              "      <td>61bee9c70c</td>\n",
              "    </tr>\n",
              "    <tr>\n",
              "      <th>51191</th>\n",
              "      <td>ZUENOULA</td>\n",
              "      <td>In Service</td>\n",
              "      <td>INTERIEUR</td>\n",
              "      <td>Grand-NORD</td>\n",
              "      <td>ZONE A - Grand-NORD</td>\n",
              "      <td>MARAHOUE</td>\n",
              "      <td>CENTRE NORTH</td>\n",
              "      <td>f9f3e42589</td>\n",
              "      <td>61bee9c70c</td>\n",
              "      <td>Voice</td>\n",
              "      <td>21</td>\n",
              "      <td>01:13.0</td>\n",
              "      <td>1</td>\n",
              "      <td>4d65c9c935d0201</td>\n",
              "      <td>f4a80e2a51cc197</td>\n",
              "      <td>19e2e</td>\n",
              "      <td>19e2e</td>\n",
              "      <td>c92be6915d</td>\n",
              "      <td>61bee9c70c</td>\n",
              "    </tr>\n",
              "    <tr>\n",
              "      <th>51192</th>\n",
              "      <td>ZUENOULA</td>\n",
              "      <td>In Service</td>\n",
              "      <td>INTERIEUR</td>\n",
              "      <td>Grand-NORD</td>\n",
              "      <td>ZONE A - Grand-NORD</td>\n",
              "      <td>MARAHOUE</td>\n",
              "      <td>CENTRE NORTH</td>\n",
              "      <td>f9f3e42589</td>\n",
              "      <td>61bee9c70c</td>\n",
              "      <td>Voice</td>\n",
              "      <td>90</td>\n",
              "      <td>01:21.0</td>\n",
              "      <td>1</td>\n",
              "      <td>16b18134457df0c</td>\n",
              "      <td>741ce69ff5ae71f</td>\n",
              "      <td>19e2e</td>\n",
              "      <td>19e2e</td>\n",
              "      <td>c92be6915d</td>\n",
              "      <td>61bee9c70c</td>\n",
              "    </tr>\n",
              "    <tr>\n",
              "      <th>51193</th>\n",
              "      <td>ZUENOULA</td>\n",
              "      <td>In Service</td>\n",
              "      <td>INTERIEUR</td>\n",
              "      <td>Grand-NORD</td>\n",
              "      <td>ZONE A - Grand-NORD</td>\n",
              "      <td>MARAHOUE</td>\n",
              "      <td>CENTRE NORTH</td>\n",
              "      <td>f9f3e42589</td>\n",
              "      <td>61bee9c70c</td>\n",
              "      <td>Voice</td>\n",
              "      <td>0</td>\n",
              "      <td>00:12.0</td>\n",
              "      <td>1</td>\n",
              "      <td>799cfb18cce4f9b</td>\n",
              "      <td>28af748b735567c</td>\n",
              "      <td>19e2e</td>\n",
              "      <td>19e2e</td>\n",
              "      <td>c92be6915d</td>\n",
              "      <td>61bee9c70c</td>\n",
              "    </tr>\n",
              "    <tr>\n",
              "      <th>51194</th>\n",
              "      <td>ZUENOULA</td>\n",
              "      <td>In Service</td>\n",
              "      <td>INTERIEUR</td>\n",
              "      <td>Grand-NORD</td>\n",
              "      <td>ZONE A - Grand-NORD</td>\n",
              "      <td>MARAHOUE</td>\n",
              "      <td>CENTRE NORTH</td>\n",
              "      <td>f9f3e42589</td>\n",
              "      <td>61bee9c70c</td>\n",
              "      <td>sms</td>\n",
              "      <td>0</td>\n",
              "      <td>00:24.0</td>\n",
              "      <td>1</td>\n",
              "      <td>e4c44576789349d</td>\n",
              "      <td>65eca43003c502a</td>\n",
              "      <td>19e2e</td>\n",
              "      <td>19e2e</td>\n",
              "      <td>c92be6915d</td>\n",
              "      <td>61bee9c70c</td>\n",
              "    </tr>\n",
              "    <tr>\n",
              "      <th>51195</th>\n",
              "      <td>ZUENOULA</td>\n",
              "      <td>In Service</td>\n",
              "      <td>INTERIEUR</td>\n",
              "      <td>Grand-NORD</td>\n",
              "      <td>ZONE A - Grand-NORD</td>\n",
              "      <td>MARAHOUE</td>\n",
              "      <td>CENTRE NORTH</td>\n",
              "      <td>f9f3e42589</td>\n",
              "      <td>61bee9c70c</td>\n",
              "      <td>Voice</td>\n",
              "      <td>34</td>\n",
              "      <td>01:00.0</td>\n",
              "      <td>1</td>\n",
              "      <td>80b550ee361afad</td>\n",
              "      <td>21f9e5a5e35d2f0</td>\n",
              "      <td>19e2e</td>\n",
              "      <td>19e2e</td>\n",
              "      <td>c92be6915d</td>\n",
              "      <td>61bee9c70c</td>\n",
              "    </tr>\n",
              "    <tr>\n",
              "      <th>51196</th>\n",
              "      <td>ZUENOULA</td>\n",
              "      <td>In Service</td>\n",
              "      <td>INTERIEUR</td>\n",
              "      <td>Grand-NORD</td>\n",
              "      <td>ZONE A - Grand-NORD</td>\n",
              "      <td>MARAHOUE</td>\n",
              "      <td>CENTRE NORTH</td>\n",
              "      <td>f9f3e42589</td>\n",
              "      <td>61bee9c70c</td>\n",
              "      <td>sms</td>\n",
              "      <td>0</td>\n",
              "      <td>01:37.0</td>\n",
              "      <td>1</td>\n",
              "      <td>05fb44a35341a8f</td>\n",
              "      <td>cbc45d65009f36c</td>\n",
              "      <td>19e2e</td>\n",
              "      <td>19e2e</td>\n",
              "      <td>c92be6915d</td>\n",
              "      <td>61bee9c70c</td>\n",
              "    </tr>\n",
              "  </tbody>\n",
              "</table>\n",
              "</div>"
            ],
            "text/plain": [
              "         VILLES      STATUS LOCALISATION  ... COUNTRY_B   CELL_ID_y     SITE_ID\n",
              "51187  ZUENOULA  In Service    INTERIEUR  ...     19e2e  c92be6915d  61bee9c70c\n",
              "51188  ZUENOULA  In Service    INTERIEUR  ...     19e2e  c92be6915d  61bee9c70c\n",
              "51189  ZUENOULA  In Service    INTERIEUR  ...     19e2e  c92be6915d  61bee9c70c\n",
              "51190  ZUENOULA  In Service    INTERIEUR  ...     19e2e  c92be6915d  61bee9c70c\n",
              "51191  ZUENOULA  In Service    INTERIEUR  ...     19e2e  c92be6915d  61bee9c70c\n",
              "51192  ZUENOULA  In Service    INTERIEUR  ...     19e2e  c92be6915d  61bee9c70c\n",
              "51193  ZUENOULA  In Service    INTERIEUR  ...     19e2e  c92be6915d  61bee9c70c\n",
              "51194  ZUENOULA  In Service    INTERIEUR  ...     19e2e  c92be6915d  61bee9c70c\n",
              "51195  ZUENOULA  In Service    INTERIEUR  ...     19e2e  c92be6915d  61bee9c70c\n",
              "51196  ZUENOULA  In Service    INTERIEUR  ...     19e2e  c92be6915d  61bee9c70c\n",
              "\n",
              "[10 rows x 19 columns]"
            ]
          },
          "metadata": {
            "tags": []
          },
          "execution_count": 25
        }
      ]
    },
    {
      "cell_type": "code",
      "metadata": {
        "colab": {
          "base_uri": "https://localhost:8080/"
        },
        "id": "Gy6YbyqtplLP",
        "outputId": "d9c897af-00ca-4b48-f4aa-7172f6649d0d"
      },
      "source": [
        "#to drop duplicates\n",
        "merged_telecom.drop_duplicates(inplace=True)\n",
        "merged_telecom.shape"
      ],
      "execution_count": 26,
      "outputs": [
        {
          "output_type": "execute_result",
          "data": {
            "text/plain": [
              "(49451, 19)"
            ]
          },
          "metadata": {
            "tags": []
          },
          "execution_count": 26
        }
      ]
    },
    {
      "cell_type": "code",
      "metadata": {
        "colab": {
          "base_uri": "https://localhost:8080/"
        },
        "id": "eWzZKOPE4VkM",
        "outputId": "d2a50098-a2ca-47e1-e89e-dd478497480a"
      },
      "source": [
        "merged_telecom.info()"
      ],
      "execution_count": 27,
      "outputs": [
        {
          "output_type": "stream",
          "text": [
            "<class 'pandas.core.frame.DataFrame'>\n",
            "Int64Index: 49451 entries, 0 to 51196\n",
            "Data columns (total 19 columns):\n",
            " #   Column           Non-Null Count  Dtype \n",
            "---  ------           --------------  ----- \n",
            " 0   VILLES           49451 non-null  object\n",
            " 1   STATUS           49451 non-null  object\n",
            " 2   LOCALISATION     49451 non-null  object\n",
            " 3   DECOUPZONE       49451 non-null  object\n",
            " 4   ZONENAME         49451 non-null  object\n",
            " 5   REGION           49451 non-null  object\n",
            " 6   AREA             49451 non-null  object\n",
            " 7   CELL_ID_x        49451 non-null  object\n",
            " 8   SITE_CODE        49451 non-null  object\n",
            " 9   PRODUCT          49451 non-null  object\n",
            " 10  VALUE            49451 non-null  int64 \n",
            " 11  DATE_TIME        49451 non-null  object\n",
            " 12  CELL_ON_SITE     49451 non-null  object\n",
            " 13  DW_A_NUMBER_INT  49451 non-null  object\n",
            " 14  DW_B_NUMBER_INT  49451 non-null  object\n",
            " 15  COUNTRY_A        49451 non-null  object\n",
            " 16  COUNTRY_B        49451 non-null  object\n",
            " 17  CELL_ID_y        49451 non-null  object\n",
            " 18  SITE_ID          49451 non-null  object\n",
            "dtypes: int64(1), object(18)\n",
            "memory usage: 7.5+ MB\n"
          ],
          "name": "stdout"
        }
      ]
    },
    {
      "cell_type": "code",
      "metadata": {
        "colab": {
          "base_uri": "https://localhost:8080/"
        },
        "id": "eXWb6qEtSYRN",
        "outputId": "6cf8eaf7-9a6e-4cd3-9a08-98f2161ac614"
      },
      "source": [
        "merged_null=merged_telecom.isna().sum()\n",
        "merged_null=merged_null[merged_null!=0]\n",
        "print('number of columns with missing values are',len(merged_null))\n",
        "merged_null.sort_values(ascending=False)"
      ],
      "execution_count": 28,
      "outputs": [
        {
          "output_type": "stream",
          "text": [
            "number of columns with missing values are 0\n"
          ],
          "name": "stdout"
        },
        {
          "output_type": "execute_result",
          "data": {
            "text/plain": [
              "Series([], dtype: int64)"
            ]
          },
          "metadata": {
            "tags": []
          },
          "execution_count": 28
        }
      ]
    },
    {
      "cell_type": "code",
      "metadata": {
        "colab": {
          "base_uri": "https://localhost:8080/"
        },
        "id": "7KoED64d996B",
        "outputId": "932a5c3c-76fb-4dba-f009-2f7a10fdf013"
      },
      "source": [
        "#to get a look at the attributes of the table\n",
        "print('shape of the combined dataset: ',merged_telecom.shape)\n",
        "print('size of the combined dataset: ',merged_telecom.size)\n",
        "print('dimensions of the merged dataset: ',merged_telecom.ndim)"
      ],
      "execution_count": 29,
      "outputs": [
        {
          "output_type": "stream",
          "text": [
            "shape of the combined dataset:  (49451, 19)\n",
            "size of the combined dataset:  939569\n",
            "dimensions of the merged dataset:  2\n"
          ],
          "name": "stdout"
        }
      ]
    },
    {
      "cell_type": "code",
      "metadata": {
        "id": "fZRBbEbhj-HO"
      },
      "source": [
        "#to drop columns that will not be needed in this analysis\n",
        "merged_telecom.drop(['LOCALISATION','DECOUPZONE','REGION','SITE_CODE','CELL_ON_SITE','DW_A_NUMBER_INT','DW_B_NUMBER_INT','COUNTRY_B','COUNTRY_A'],axis=1,inplace=True)"
      ],
      "execution_count": 30,
      "outputs": []
    },
    {
      "cell_type": "code",
      "metadata": {
        "colab": {
          "base_uri": "https://localhost:8080/"
        },
        "id": "jKFx-Wcclkx4",
        "outputId": "503943a0-4cd6-4477-842b-69b99290bf6f"
      },
      "source": [
        "#to check if the columns have been dropped\n",
        "merged_telecom.columns"
      ],
      "execution_count": 31,
      "outputs": [
        {
          "output_type": "execute_result",
          "data": {
            "text/plain": [
              "Index(['VILLES', 'STATUS', 'ZONENAME', 'AREA', 'CELL_ID_x', 'PRODUCT', 'VALUE',\n",
              "       'DATE_TIME', 'CELL_ID_y', 'SITE_ID'],\n",
              "      dtype='object')"
            ]
          },
          "metadata": {
            "tags": []
          },
          "execution_count": 31
        }
      ]
    },
    {
      "cell_type": "code",
      "metadata": {
        "colab": {
          "base_uri": "https://localhost:8080/"
        },
        "id": "HvYmBFG3b9sI",
        "outputId": "3e40651a-d414-4455-b96f-14bbf755f310"
      },
      "source": [
        "merged_telecom.dtypes"
      ],
      "execution_count": 32,
      "outputs": [
        {
          "output_type": "execute_result",
          "data": {
            "text/plain": [
              "VILLES       object\n",
              "STATUS       object\n",
              "ZONENAME     object\n",
              "AREA         object\n",
              "CELL_ID_x    object\n",
              "PRODUCT      object\n",
              "VALUE         int64\n",
              "DATE_TIME    object\n",
              "CELL_ID_y    object\n",
              "SITE_ID      object\n",
              "dtype: object"
            ]
          },
          "metadata": {
            "tags": []
          },
          "execution_count": 32
        }
      ]
    },
    {
      "cell_type": "markdown",
      "metadata": {
        "id": "9asKg-psI6nE"
      },
      "source": [
        "**ANALYSIS**"
      ]
    },
    {
      "cell_type": "markdown",
      "metadata": {
        "id": "qwcb2dAZa8Ow"
      },
      "source": [
        "where most users from"
      ]
    },
    {
      "cell_type": "code",
      "metadata": {
        "colab": {
          "base_uri": "https://localhost:8080/"
        },
        "id": "6T9355wd1PJS",
        "outputId": "3a4601c1-f40b-4f21-cec1-15f6694ba120"
      },
      "source": [
        "#to get the city with the most users\n",
        "merged_telecom['VILLES'].value_counts()"
      ],
      "execution_count": 33,
      "outputs": [
        {
          "output_type": "execute_result",
          "data": {
            "text/plain": [
              "YOPOUGON    8417\n",
              "ABOBO       6147\n",
              "COCODY      3704\n",
              "ADJAME      2505\n",
              "KOUMASSI    2275\n",
              "            ... \n",
              "PAKAOUBO       3\n",
              "ZAROKO         3\n",
              "KONGASSO       3\n",
              "KOTOULA        2\n",
              "DANANON        2\n",
              "Name: VILLES, Length: 398, dtype: int64"
            ]
          },
          "metadata": {
            "tags": []
          },
          "execution_count": 33
        }
      ]
    },
    {
      "cell_type": "code",
      "metadata": {
        "id": "i4m8yVh-JWkc"
      },
      "source": [
        "#most calls were made by people in the ville Yopougon"
      ],
      "execution_count": 34,
      "outputs": []
    },
    {
      "cell_type": "markdown",
      "metadata": {
        "id": "pmGrPffObIOw"
      },
      "source": [
        "Ville where most revenue was generated from"
      ]
    },
    {
      "cell_type": "code",
      "metadata": {
        "colab": {
          "base_uri": "https://localhost:8080/"
        },
        "id": "bzCk2OuDbQ71",
        "outputId": "ef50d4d9-dafc-4469-bcde-9e32c4e1c42a"
      },
      "source": [
        "merged_telecom.groupby('VILLES')['VALUE'].agg('sum').sort_values(ascending=False)"
      ],
      "execution_count": 35,
      "outputs": [
        {
          "output_type": "execute_result",
          "data": {
            "text/plain": [
              "VILLES\n",
              "YOPOUGON           201875\n",
              "COCODY             177745\n",
              "ABOBO              124060\n",
              "KOUMASSI            71356\n",
              "TREICHVILLE         62949\n",
              "                    ...  \n",
              "TIEMELEKRO              0\n",
              "BROFODOUME              0\n",
              "NGATTADOLIKRO           0\n",
              "DOUGROUPALEGNOA         0\n",
              "WENDENE                 0\n",
              "Name: VALUE, Length: 398, dtype: int64"
            ]
          },
          "metadata": {
            "tags": []
          },
          "execution_count": 35
        }
      ]
    },
    {
      "cell_type": "code",
      "metadata": {
        "id": "-xl_YsIkiSvy"
      },
      "source": [
        "# MTN generated most revenue from the ville Yopougon\n",
        "#this is true since it had the most users"
      ],
      "execution_count": 36,
      "outputs": []
    },
    {
      "cell_type": "markdown",
      "metadata": {
        "id": "kWCtX0eQiTzJ"
      },
      "source": [
        "which was the most used product"
      ]
    },
    {
      "cell_type": "code",
      "metadata": {
        "colab": {
          "base_uri": "https://localhost:8080/"
        },
        "id": "mwya9I0hh7wb",
        "outputId": "193cd8ac-5705-4f5c-aef9-7c46cf829679"
      },
      "source": [
        "print('number unique values in product: ',merged_telecom['PRODUCT'].nunique())\n",
        "print('unique products:', merged_telecom['PRODUCT'].unique())\n",
        "print('\\n\\n')\n",
        "merged_telecom['PRODUCT'].value_counts()"
      ],
      "execution_count": 37,
      "outputs": [
        {
          "output_type": "stream",
          "text": [
            "number unique values in product:  2\n",
            "unique products: ['Voice' 'sms']\n",
            "\n",
            "\n",
            "\n"
          ],
          "name": "stdout"
        },
        {
          "output_type": "execute_result",
          "data": {
            "text/plain": [
              "sms      28515\n",
              "Voice    20936\n",
              "Name: PRODUCT, dtype: int64"
            ]
          },
          "metadata": {
            "tags": []
          },
          "execution_count": 37
        }
      ]
    },
    {
      "cell_type": "code",
      "metadata": {
        "colab": {
          "base_uri": "https://localhost:8080/",
          "height": 492
        },
        "id": "83gcMRlDiCnr",
        "outputId": "268f20a4-c245-4ba8-e177-015d0c939730"
      },
      "source": [
        "# create a plot to see this\n",
        "plt.figure(figsize=(8,10))\n",
        "plt.title('MTN PRODUCT USAGE',fontdict={'fontsize':12},color='blue')\n",
        "explode=0,0.1\n",
        "labels='sms','Voice'\n",
        "plt.pie(merged_telecom['PRODUCT'].value_counts(),labels=labels,explode=explode,autopct='%1.3f%%')\n",
        "plt.show()"
      ],
      "execution_count": 38,
      "outputs": [
        {
          "output_type": "display_data",
          "data": {
            "image/png": "[encoded data removed]",
            "text/plain": [
              "<Figure size 576x720 with 1 Axes>"
            ]
          },
          "metadata": {
            "tags": []
          }
        }
      ]
    },
    {
      "cell_type": "code",
      "metadata": {
        "id": "_l-_eoQ5bUpg"
      },
      "source": [
        "# sms services were the most used"
      ],
      "execution_count": 39,
      "outputs": []
    },
    {
      "cell_type": "markdown",
      "metadata": {
        "id": "3Ay94POIfCyR"
      },
      "source": [
        "From which Villes were the most calls from"
      ]
    },
    {
      "cell_type": "code",
      "metadata": {
        "colab": {
          "base_uri": "https://localhost:8080/",
          "height": 391
        },
        "id": "BMIMSFU4fDLX",
        "outputId": "810ca532-79df-4d6b-b414-f538ec53c23a"
      },
      "source": [
        "# to get the rows with only voice calls\n",
        "#we put those rows in a column called rows_voice\n",
        "rows_voice=merged_telecom[merged_telecom['PRODUCT'].map(lambda PRODUCT: 'Voice' in PRODUCT)]\n",
        "rows_voice"
      ],
      "execution_count": 40,
      "outputs": [
        {
          "output_type": "execute_result",
          "data": {
            "text/html": [
              "<div>\n",
              "<style scoped>\n",
              "    .dataframe tbody tr th:only-of-type {\n",
              "        vertical-align: middle;\n",
              "    }\n",
              "\n",
              "    .dataframe tbody tr th {\n",
              "        vertical-align: top;\n",
              "    }\n",
              "\n",
              "    .dataframe thead th {\n",
              "        text-align: right;\n",
              "    }\n",
              "</style>\n",
              "<table border=\"1\" class=\"dataframe\">\n",
              "  <thead>\n",
              "    <tr style=\"text-align: right;\">\n",
              "      <th></th>\n",
              "      <th>VILLES</th>\n",
              "      <th>STATUS</th>\n",
              "      <th>ZONENAME</th>\n",
              "      <th>AREA</th>\n",
              "      <th>CELL_ID_x</th>\n",
              "      <th>PRODUCT</th>\n",
              "      <th>VALUE</th>\n",
              "      <th>DATE_TIME</th>\n",
              "      <th>CELL_ID_y</th>\n",
              "      <th>SITE_ID</th>\n",
              "    </tr>\n",
              "  </thead>\n",
              "  <tbody>\n",
              "    <tr>\n",
              "      <th>0</th>\n",
              "      <td>ADJAME</td>\n",
              "      <td>In Service</td>\n",
              "      <td>AGBANNEW</td>\n",
              "      <td>unknown</td>\n",
              "      <td>fbb2e75af3</td>\n",
              "      <td>Voice</td>\n",
              "      <td>34</td>\n",
              "      <td>00:58.0</td>\n",
              "      <td>ac8f1ccb39</td>\n",
              "      <td>0bb492ef17</td>\n",
              "    </tr>\n",
              "    <tr>\n",
              "      <th>1</th>\n",
              "      <td>ADJAME</td>\n",
              "      <td>In Service</td>\n",
              "      <td>AGBANNEW</td>\n",
              "      <td>unknown</td>\n",
              "      <td>1502501d78</td>\n",
              "      <td>Voice</td>\n",
              "      <td>34</td>\n",
              "      <td>00:58.0</td>\n",
              "      <td>ac8f1ccb39</td>\n",
              "      <td>0bb492ef17</td>\n",
              "    </tr>\n",
              "    <tr>\n",
              "      <th>2</th>\n",
              "      <td>ADJAME</td>\n",
              "      <td>In Service</td>\n",
              "      <td>AGBANNEW</td>\n",
              "      <td>unknown</td>\n",
              "      <td>0c2e182a0c</td>\n",
              "      <td>Voice</td>\n",
              "      <td>34</td>\n",
              "      <td>00:58.0</td>\n",
              "      <td>ac8f1ccb39</td>\n",
              "      <td>0bb492ef17</td>\n",
              "    </tr>\n",
              "    <tr>\n",
              "      <th>3</th>\n",
              "      <td>ABOBO</td>\n",
              "      <td>In Service</td>\n",
              "      <td>NPONON</td>\n",
              "      <td>unknown</td>\n",
              "      <td>a70c1d263b</td>\n",
              "      <td>Voice</td>\n",
              "      <td>189</td>\n",
              "      <td>00:18.0</td>\n",
              "      <td>35a513722e</td>\n",
              "      <td>56306cc7ca</td>\n",
              "    </tr>\n",
              "    <tr>\n",
              "      <th>4</th>\n",
              "      <td>ABOBO</td>\n",
              "      <td>In Service</td>\n",
              "      <td>NPONON</td>\n",
              "      <td>unknown</td>\n",
              "      <td>a70c1d263b</td>\n",
              "      <td>Voice</td>\n",
              "      <td>27</td>\n",
              "      <td>00:30.0</td>\n",
              "      <td>35a513722e</td>\n",
              "      <td>56306cc7ca</td>\n",
              "    </tr>\n",
              "    <tr>\n",
              "      <th>...</th>\n",
              "      <td>...</td>\n",
              "      <td>...</td>\n",
              "      <td>...</td>\n",
              "      <td>...</td>\n",
              "      <td>...</td>\n",
              "      <td>...</td>\n",
              "      <td>...</td>\n",
              "      <td>...</td>\n",
              "      <td>...</td>\n",
              "      <td>...</td>\n",
              "    </tr>\n",
              "    <tr>\n",
              "      <th>51190</th>\n",
              "      <td>ZUENOULA</td>\n",
              "      <td>In Service</td>\n",
              "      <td>ZONE A - Grand-NORD</td>\n",
              "      <td>CENTRE NORTH</td>\n",
              "      <td>f9f3e42589</td>\n",
              "      <td>Voice</td>\n",
              "      <td>3</td>\n",
              "      <td>00:18.0</td>\n",
              "      <td>c92be6915d</td>\n",
              "      <td>61bee9c70c</td>\n",
              "    </tr>\n",
              "    <tr>\n",
              "      <th>51191</th>\n",
              "      <td>ZUENOULA</td>\n",
              "      <td>In Service</td>\n",
              "      <td>ZONE A - Grand-NORD</td>\n",
              "      <td>CENTRE NORTH</td>\n",
              "      <td>f9f3e42589</td>\n",
              "      <td>Voice</td>\n",
              "      <td>21</td>\n",
              "      <td>01:13.0</td>\n",
              "      <td>c92be6915d</td>\n",
              "      <td>61bee9c70c</td>\n",
              "    </tr>\n",
              "    <tr>\n",
              "      <th>51192</th>\n",
              "      <td>ZUENOULA</td>\n",
              "      <td>In Service</td>\n",
              "      <td>ZONE A - Grand-NORD</td>\n",
              "      <td>CENTRE NORTH</td>\n",
              "      <td>f9f3e42589</td>\n",
              "      <td>Voice</td>\n",
              "      <td>90</td>\n",
              "      <td>01:21.0</td>\n",
              "      <td>c92be6915d</td>\n",
              "      <td>61bee9c70c</td>\n",
              "    </tr>\n",
              "    <tr>\n",
              "      <th>51193</th>\n",
              "      <td>ZUENOULA</td>\n",
              "      <td>In Service</td>\n",
              "      <td>ZONE A - Grand-NORD</td>\n",
              "      <td>CENTRE NORTH</td>\n",
              "      <td>f9f3e42589</td>\n",
              "      <td>Voice</td>\n",
              "      <td>0</td>\n",
              "      <td>00:12.0</td>\n",
              "      <td>c92be6915d</td>\n",
              "      <td>61bee9c70c</td>\n",
              "    </tr>\n",
              "    <tr>\n",
              "      <th>51195</th>\n",
              "      <td>ZUENOULA</td>\n",
              "      <td>In Service</td>\n",
              "      <td>ZONE A - Grand-NORD</td>\n",
              "      <td>CENTRE NORTH</td>\n",
              "      <td>f9f3e42589</td>\n",
              "      <td>Voice</td>\n",
              "      <td>34</td>\n",
              "      <td>01:00.0</td>\n",
              "      <td>c92be6915d</td>\n",
              "      <td>61bee9c70c</td>\n",
              "    </tr>\n",
              "  </tbody>\n",
              "</table>\n",
              "<p>20936 rows × 10 columns</p>\n",
              "</div>"
            ],
            "text/plain": [
              "         VILLES      STATUS  ...   CELL_ID_y     SITE_ID\n",
              "0        ADJAME  In Service  ...  ac8f1ccb39  0bb492ef17\n",
              "1        ADJAME  In Service  ...  ac8f1ccb39  0bb492ef17\n",
              "2        ADJAME  In Service  ...  ac8f1ccb39  0bb492ef17\n",
              "3         ABOBO  In Service  ...  35a513722e  56306cc7ca\n",
              "4         ABOBO  In Service  ...  35a513722e  56306cc7ca\n",
              "...         ...         ...  ...         ...         ...\n",
              "51190  ZUENOULA  In Service  ...  c92be6915d  61bee9c70c\n",
              "51191  ZUENOULA  In Service  ...  c92be6915d  61bee9c70c\n",
              "51192  ZUENOULA  In Service  ...  c92be6915d  61bee9c70c\n",
              "51193  ZUENOULA  In Service  ...  c92be6915d  61bee9c70c\n",
              "51195  ZUENOULA  In Service  ...  c92be6915d  61bee9c70c\n",
              "\n",
              "[20936 rows x 10 columns]"
            ]
          },
          "metadata": {
            "tags": []
          },
          "execution_count": 40
        }
      ]
    },
    {
      "cell_type": "code",
      "metadata": {
        "colab": {
          "base_uri": "https://localhost:8080/"
        },
        "id": "5Q6ml-tzfNTK",
        "outputId": "988b32ca-8442-4627-bd23-5043c362e767"
      },
      "source": [
        "rows_voice.groupby('VILLES')['PRODUCT'].value_counts().sort_values(ascending=False)"
      ],
      "execution_count": 41,
      "outputs": [
        {
          "output_type": "execute_result",
          "data": {
            "text/plain": [
              "VILLES        PRODUCT\n",
              "YOPOUGON      Voice      2947\n",
              "ABOBO         Voice      1934\n",
              "COCODY        Voice      1635\n",
              "ADJAME        Voice      1037\n",
              "YAMOUSSOUKRO  Voice      1017\n",
              "                         ... \n",
              "KOKOUMBO      Voice         3\n",
              "KONGASSO      Voice         3\n",
              "KOONAN        Voice         3\n",
              "DANANON       Voice         2\n",
              "KOTOULA       Voice         2\n",
              "Name: PRODUCT, Length: 367, dtype: int64"
            ]
          },
          "metadata": {
            "tags": []
          },
          "execution_count": 41
        }
      ]
    },
    {
      "cell_type": "code",
      "metadata": {
        "id": "CRallyyffVEk"
      },
      "source": [
        "# from above we can see that most voice calls were from the vile yopougon"
      ],
      "execution_count": 42,
      "outputs": []
    },
    {
      "cell_type": "markdown",
      "metadata": {
        "id": "IZQ8cGI1ipjk"
      },
      "source": [
        "From which Villes were the most sms from"
      ]
    },
    {
      "cell_type": "code",
      "metadata": {
        "colab": {
          "base_uri": "https://localhost:8080/",
          "height": 391
        },
        "id": "fdALcHHkiuYT",
        "outputId": "a6f353e7-736f-4471-f68b-5d829cdfaf20"
      },
      "source": [
        "# to get the rows with only voice calls\n",
        "#we put those rows in a column called rows_voice\n",
        "rows_sms=merged_telecom[merged_telecom['PRODUCT'].map(lambda PRODUCT: 'sms' in PRODUCT)]\n",
        "rows_voice"
      ],
      "execution_count": 43,
      "outputs": [
        {
          "output_type": "execute_result",
          "data": {
            "text/html": [
              "<div>\n",
              "<style scoped>\n",
              "    .dataframe tbody tr th:only-of-type {\n",
              "        vertical-align: middle;\n",
              "    }\n",
              "\n",
              "    .dataframe tbody tr th {\n",
              "        vertical-align: top;\n",
              "    }\n",
              "\n",
              "    .dataframe thead th {\n",
              "        text-align: right;\n",
              "    }\n",
              "</style>\n",
              "<table border=\"1\" class=\"dataframe\">\n",
              "  <thead>\n",
              "    <tr style=\"text-align: right;\">\n",
              "      <th></th>\n",
              "      <th>VILLES</th>\n",
              "      <th>STATUS</th>\n",
              "      <th>ZONENAME</th>\n",
              "      <th>AREA</th>\n",
              "      <th>CELL_ID_x</th>\n",
              "      <th>PRODUCT</th>\n",
              "      <th>VALUE</th>\n",
              "      <th>DATE_TIME</th>\n",
              "      <th>CELL_ID_y</th>\n",
              "      <th>SITE_ID</th>\n",
              "    </tr>\n",
              "  </thead>\n",
              "  <tbody>\n",
              "    <tr>\n",
              "      <th>0</th>\n",
              "      <td>ADJAME</td>\n",
              "      <td>In Service</td>\n",
              "      <td>AGBANNEW</td>\n",
              "      <td>unknown</td>\n",
              "      <td>fbb2e75af3</td>\n",
              "      <td>Voice</td>\n",
              "      <td>34</td>\n",
              "      <td>00:58.0</td>\n",
              "      <td>ac8f1ccb39</td>\n",
              "      <td>0bb492ef17</td>\n",
              "    </tr>\n",
              "    <tr>\n",
              "      <th>1</th>\n",
              "      <td>ADJAME</td>\n",
              "      <td>In Service</td>\n",
              "      <td>AGBANNEW</td>\n",
              "      <td>unknown</td>\n",
              "      <td>1502501d78</td>\n",
              "      <td>Voice</td>\n",
              "      <td>34</td>\n",
              "      <td>00:58.0</td>\n",
              "      <td>ac8f1ccb39</td>\n",
              "      <td>0bb492ef17</td>\n",
              "    </tr>\n",
              "    <tr>\n",
              "      <th>2</th>\n",
              "      <td>ADJAME</td>\n",
              "      <td>In Service</td>\n",
              "      <td>AGBANNEW</td>\n",
              "      <td>unknown</td>\n",
              "      <td>0c2e182a0c</td>\n",
              "      <td>Voice</td>\n",
              "      <td>34</td>\n",
              "      <td>00:58.0</td>\n",
              "      <td>ac8f1ccb39</td>\n",
              "      <td>0bb492ef17</td>\n",
              "    </tr>\n",
              "    <tr>\n",
              "      <th>3</th>\n",
              "      <td>ABOBO</td>\n",
              "      <td>In Service</td>\n",
              "      <td>NPONON</td>\n",
              "      <td>unknown</td>\n",
              "      <td>a70c1d263b</td>\n",
              "      <td>Voice</td>\n",
              "      <td>189</td>\n",
              "      <td>00:18.0</td>\n",
              "      <td>35a513722e</td>\n",
              "      <td>56306cc7ca</td>\n",
              "    </tr>\n",
              "    <tr>\n",
              "      <th>4</th>\n",
              "      <td>ABOBO</td>\n",
              "      <td>In Service</td>\n",
              "      <td>NPONON</td>\n",
              "      <td>unknown</td>\n",
              "      <td>a70c1d263b</td>\n",
              "      <td>Voice</td>\n",
              "      <td>27</td>\n",
              "      <td>00:30.0</td>\n",
              "      <td>35a513722e</td>\n",
              "      <td>56306cc7ca</td>\n",
              "    </tr>\n",
              "    <tr>\n",
              "      <th>...</th>\n",
              "      <td>...</td>\n",
              "      <td>...</td>\n",
              "      <td>...</td>\n",
              "      <td>...</td>\n",
              "      <td>...</td>\n",
              "      <td>...</td>\n",
              "      <td>...</td>\n",
              "      <td>...</td>\n",
              "      <td>...</td>\n",
              "      <td>...</td>\n",
              "    </tr>\n",
              "    <tr>\n",
              "      <th>51190</th>\n",
              "      <td>ZUENOULA</td>\n",
              "      <td>In Service</td>\n",
              "      <td>ZONE A - Grand-NORD</td>\n",
              "      <td>CENTRE NORTH</td>\n",
              "      <td>f9f3e42589</td>\n",
              "      <td>Voice</td>\n",
              "      <td>3</td>\n",
              "      <td>00:18.0</td>\n",
              "      <td>c92be6915d</td>\n",
              "      <td>61bee9c70c</td>\n",
              "    </tr>\n",
              "    <tr>\n",
              "      <th>51191</th>\n",
              "      <td>ZUENOULA</td>\n",
              "      <td>In Service</td>\n",
              "      <td>ZONE A - Grand-NORD</td>\n",
              "      <td>CENTRE NORTH</td>\n",
              "      <td>f9f3e42589</td>\n",
              "      <td>Voice</td>\n",
              "      <td>21</td>\n",
              "      <td>01:13.0</td>\n",
              "      <td>c92be6915d</td>\n",
              "      <td>61bee9c70c</td>\n",
              "    </tr>\n",
              "    <tr>\n",
              "      <th>51192</th>\n",
              "      <td>ZUENOULA</td>\n",
              "      <td>In Service</td>\n",
              "      <td>ZONE A - Grand-NORD</td>\n",
              "      <td>CENTRE NORTH</td>\n",
              "      <td>f9f3e42589</td>\n",
              "      <td>Voice</td>\n",
              "      <td>90</td>\n",
              "      <td>01:21.0</td>\n",
              "      <td>c92be6915d</td>\n",
              "      <td>61bee9c70c</td>\n",
              "    </tr>\n",
              "    <tr>\n",
              "      <th>51193</th>\n",
              "      <td>ZUENOULA</td>\n",
              "      <td>In Service</td>\n",
              "      <td>ZONE A - Grand-NORD</td>\n",
              "      <td>CENTRE NORTH</td>\n",
              "      <td>f9f3e42589</td>\n",
              "      <td>Voice</td>\n",
              "      <td>0</td>\n",
              "      <td>00:12.0</td>\n",
              "      <td>c92be6915d</td>\n",
              "      <td>61bee9c70c</td>\n",
              "    </tr>\n",
              "    <tr>\n",
              "      <th>51195</th>\n",
              "      <td>ZUENOULA</td>\n",
              "      <td>In Service</td>\n",
              "      <td>ZONE A - Grand-NORD</td>\n",
              "      <td>CENTRE NORTH</td>\n",
              "      <td>f9f3e42589</td>\n",
              "      <td>Voice</td>\n",
              "      <td>34</td>\n",
              "      <td>01:00.0</td>\n",
              "      <td>c92be6915d</td>\n",
              "      <td>61bee9c70c</td>\n",
              "    </tr>\n",
              "  </tbody>\n",
              "</table>\n",
              "<p>20936 rows × 10 columns</p>\n",
              "</div>"
            ],
            "text/plain": [
              "         VILLES      STATUS  ...   CELL_ID_y     SITE_ID\n",
              "0        ADJAME  In Service  ...  ac8f1ccb39  0bb492ef17\n",
              "1        ADJAME  In Service  ...  ac8f1ccb39  0bb492ef17\n",
              "2        ADJAME  In Service  ...  ac8f1ccb39  0bb492ef17\n",
              "3         ABOBO  In Service  ...  35a513722e  56306cc7ca\n",
              "4         ABOBO  In Service  ...  35a513722e  56306cc7ca\n",
              "...         ...         ...  ...         ...         ...\n",
              "51190  ZUENOULA  In Service  ...  c92be6915d  61bee9c70c\n",
              "51191  ZUENOULA  In Service  ...  c92be6915d  61bee9c70c\n",
              "51192  ZUENOULA  In Service  ...  c92be6915d  61bee9c70c\n",
              "51193  ZUENOULA  In Service  ...  c92be6915d  61bee9c70c\n",
              "51195  ZUENOULA  In Service  ...  c92be6915d  61bee9c70c\n",
              "\n",
              "[20936 rows x 10 columns]"
            ]
          },
          "metadata": {
            "tags": []
          },
          "execution_count": 43
        }
      ]
    },
    {
      "cell_type": "code",
      "metadata": {
        "colab": {
          "base_uri": "https://localhost:8080/"
        },
        "id": "HdK2ORTei5qM",
        "outputId": "e914e8d7-92b5-4c90-8e93-fa4af8f34696"
      },
      "source": [
        "rows_voice.groupby('VILLES')['PRODUCT'].value_counts().sort_values(ascending=False)"
      ],
      "execution_count": 44,
      "outputs": [
        {
          "output_type": "execute_result",
          "data": {
            "text/plain": [
              "VILLES        PRODUCT\n",
              "YOPOUGON      Voice      2947\n",
              "ABOBO         Voice      1934\n",
              "COCODY        Voice      1635\n",
              "ADJAME        Voice      1037\n",
              "YAMOUSSOUKRO  Voice      1017\n",
              "                         ... \n",
              "KOKOUMBO      Voice         3\n",
              "KONGASSO      Voice         3\n",
              "KOONAN        Voice         3\n",
              "DANANON       Voice         2\n",
              "KOTOULA       Voice         2\n",
              "Name: PRODUCT, Length: 367, dtype: int64"
            ]
          },
          "metadata": {
            "tags": []
          },
          "execution_count": 44
        }
      ]
    },
    {
      "cell_type": "code",
      "metadata": {
        "id": "8pg7-icgi8PZ"
      },
      "source": [
        "#we can see that the ville Yopougnon had the most sms "
      ],
      "execution_count": 45,
      "outputs": []
    },
    {
      "cell_type": "code",
      "metadata": {
        "colab": {
          "base_uri": "https://localhost:8080/"
        },
        "id": "YKDha2_Tq4TI",
        "outputId": "9c31ab0c-5eb2-4c53-fa39-f9b0837d077a"
      },
      "source": [
        "merged_telecom['CELL_ID_x'].value_counts()"
      ],
      "execution_count": 46,
      "outputs": [
        {
          "output_type": "execute_result",
          "data": {
            "text/plain": [
              "1ce5a37ea9    101\n",
              "0c77287c00    101\n",
              "d6a6e27eeb    101\n",
              "122a33b94a    101\n",
              "9e8e5e6e80    101\n",
              "             ... \n",
              "f5a0142c37      1\n",
              "285faed13e      1\n",
              "d2769fc3e4      1\n",
              "bdbed0ba55      1\n",
              "96e0deab61      1\n",
              "Name: CELL_ID_x, Length: 3389, dtype: int64"
            ]
          },
          "metadata": {
            "tags": []
          },
          "execution_count": 46
        }
      ]
    },
    {
      "cell_type": "code",
      "metadata": {
        "id": "FJIDP0tAx-x3"
      },
      "source": [
        "#most calls were made by the owner of the cell id 122a33b94a,1ce5a37ea9,9e8e5e6e80,d6a6e27eeb"
      ],
      "execution_count": 47,
      "outputs": []
    },
    {
      "cell_type": "markdown",
      "metadata": {
        "id": "p0haEhlGKdmh"
      },
      "source": [
        "Which product brought the most revenue to MTN"
      ]
    },
    {
      "cell_type": "code",
      "metadata": {
        "colab": {
          "base_uri": "https://localhost:8080/"
        },
        "id": "7k1201psKnhC",
        "outputId": "7626ac1c-68e1-45ed-edfc-101d17b8b364"
      },
      "source": [
        "product_revenue_mean=merged_telecom.groupby('PRODUCT')['VALUE'].mean()\n",
        "product_revenue_mean"
      ],
      "execution_count": 48,
      "outputs": [
        {
          "output_type": "execute_result",
          "data": {
            "text/plain": [
              "PRODUCT\n",
              "Voice    55.246943\n",
              "sms       7.988217\n",
              "Name: VALUE, dtype: float64"
            ]
          },
          "metadata": {
            "tags": []
          },
          "execution_count": 48
        }
      ]
    },
    {
      "cell_type": "code",
      "metadata": {
        "colab": {
          "base_uri": "https://localhost:8080/",
          "height": 583
        },
        "id": "vQVsDJZWKj3w",
        "outputId": "ec4f4e52-1da5-4495-97aa-ff9df987aae3"
      },
      "source": [
        "plt.figure(figsize=(9,9))\n",
        "plt.title('Revenue against Product',fontdict={'fontsize':12},color='blue')\n",
        "plt.xlabel('product')\n",
        "plt.ylabel('average price')\n",
        "product_revenue_mean.plot(kind='bar')\n",
        "plt.show()"
      ],
      "execution_count": 49,
      "outputs": [
        {
          "output_type": "display_data",
          "data": {
            "image/png": "[encoded data removed]",
            "text/plain": [
              "<Figure size 648x648 with 1 Axes>"
            ]
          },
          "metadata": {
            "tags": [],
            "needs_background": "light"
          }
        }
      ]
    },
    {
      "cell_type": "code",
      "metadata": {
        "id": "5Y8dy78VMIhH"
      },
      "source": [
        "#voice products brought the most revenue for MTN\n",
        "#revenue from voice product is eight times that of sms"
      ],
      "execution_count": 50,
      "outputs": []
    },
    {
      "cell_type": "markdown",
      "metadata": {
        "id": "Zl9jy5FoISUS"
      },
      "source": [
        "which area had the most users"
      ]
    },
    {
      "cell_type": "code",
      "metadata": {
        "colab": {
          "base_uri": "https://localhost:8080/"
        },
        "id": "h3Q44BtTFym2",
        "outputId": "d62f7181-5e4b-4f02-c4aa-f59f37e6d9bb"
      },
      "source": [
        "a=merged_telecom['AREA'].value_counts()\n",
        "a"
      ],
      "execution_count": 51,
      "outputs": [
        {
          "output_type": "execute_result",
          "data": {
            "text/plain": [
              "ABIDJAN NORTH    23710\n",
              "ABIDJAN SOUTH     8386\n",
              "CENTRE NORTH      5756\n",
              "NORTH WEST        4959\n",
              "SOUTH WEST        4887\n",
              "EAST              1497\n",
              "unknown            256\n",
              "Name: AREA, dtype: int64"
            ]
          },
          "metadata": {
            "tags": []
          },
          "execution_count": 51
        }
      ]
    },
    {
      "cell_type": "code",
      "metadata": {
        "colab": {
          "base_uri": "https://localhost:8080/",
          "height": 596
        },
        "id": "bGUezSgOFypy",
        "outputId": "9fbc0f05-7fa9-40a5-ebc0-e1ef8fd735de"
      },
      "source": [
        "plt.figure(figsize=(8,8))\n",
        "plt.title('Area Populatiy of MTN Products',fontdict={'fontsize':10},color='blue')\n",
        "plt.xlabel('Area')\n",
        "plt.ylabel('Count')\n",
        "a.plot(kind='bar')\n",
        "plt.show"
      ],
      "execution_count": 52,
      "outputs": [
        {
          "output_type": "execute_result",
          "data": {
            "text/plain": [
              "<function matplotlib.pyplot.show>"
            ]
          },
          "metadata": {
            "tags": []
          },
          "execution_count": 52
        },
        {
          "output_type": "display_data",
          "data": {
            "image/png": "[encoded data removed]",
            "text/plain": [
              "<Figure size 576x576 with 1 Axes>"
            ]
          },
          "metadata": {
            "tags": [],
            "needs_background": "light"
          }
        }
      ]
    },
    {
      "cell_type": "code",
      "metadata": {
        "id": "0N4gtOPRMTI0"
      },
      "source": [
        "# ABdijan North had the most user"
      ],
      "execution_count": 53,
      "outputs": []
    },
    {
      "cell_type": "code",
      "metadata": {
        "id": "0EYNCwRaFywG"
      },
      "source": [
        "# on average, voice products generated more revenue to MTN. revenue generated from calls is almost 8 times that generated from sms"
      ],
      "execution_count": 54,
      "outputs": []
    },
    {
      "cell_type": "markdown",
      "metadata": {
        "id": "8Xym0J3pJz8w"
      },
      "source": [
        "which area generated most revenue"
      ]
    },
    {
      "cell_type": "code",
      "metadata": {
        "colab": {
          "base_uri": "https://localhost:8080/"
        },
        "id": "AuCtkt7tQY4Z",
        "outputId": "aa82aae5-5444-48f0-80a7-de1aba26796e"
      },
      "source": [
        "area_value=merged_telecom.groupby('AREA')['VALUE'].agg('sum')\n",
        "area_value"
      ],
      "execution_count": 55,
      "outputs": [
        {
          "output_type": "execute_result",
          "data": {
            "text/plain": [
              "AREA\n",
              "ABIDJAN NORTH    612059\n",
              "ABIDJAN SOUTH    268551\n",
              "CENTRE NORTH     154062\n",
              "EAST              63721\n",
              "NORTH WEST       140321\n",
              "SOUTH WEST       139723\n",
              "unknown            5997\n",
              "Name: VALUE, dtype: int64"
            ]
          },
          "metadata": {
            "tags": []
          },
          "execution_count": 55
        }
      ]
    },
    {
      "cell_type": "code",
      "metadata": {
        "colab": {
          "base_uri": "https://localhost:8080/",
          "height": 536
        },
        "id": "NoEA7pcLSUdB",
        "outputId": "e4b2e7af-7c8c-4370-e3c7-02e2b9f2f017"
      },
      "source": [
        "plt.figure(figsize=(9,9))\n",
        "plt.title('Revenue per Area',fontdict={'fontsize':12},color='blue')\n",
        "labels=['ABIDJAN NORTH','ABIDJAN SOUTH','CENTRE NORTH','EAST','NORTH WEST','SOUTH WEST','unknown']\n",
        "explode=0.1,0,0,0,0,0,0\n",
        "plt.pie(area_value,labels=labels,explode=explode,autopct='%1.3f%%')\n",
        "plt.show()"
      ],
      "execution_count": 56,
      "outputs": [
        {
          "output_type": "display_data",
          "data": {
            "image/png": "[encoded data removed]",
            "text/plain": [
              "<Figure size 648x648 with 1 Axes>"
            ]
          },
          "metadata": {
            "tags": []
          }
        }
      ]
    },
    {
      "cell_type": "code",
      "metadata": {
        "id": "KPjohjasTkzX"
      },
      "source": [
        "#users from abdijan north generated the most revenue for MTN in the three days"
      ],
      "execution_count": 57,
      "outputs": []
    }
  ]
}