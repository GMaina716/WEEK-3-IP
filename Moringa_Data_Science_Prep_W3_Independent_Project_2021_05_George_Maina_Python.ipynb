{
  "nbformat": 4,
  "nbformat_minor": 0,
  "metadata": {
    "colab": {
      "name": "Moringa_Data_Science_Prep_W3_Independent_Project_2021_05_George_Maina_Python",
      "provenance": [],
      "collapsed_sections": [],
      "authorship_tag": "ABX9TyMiWXf0I35KhZaKaPvaqjNX",
      "include_colab_link": true
    },
    "kernelspec": {
      "name": "python3",
      "display_name": "Python 3"
    },
    "language_info": {
      "name": "python"
    }
  },
  "cells": [
    {
      "cell_type": "markdown",
      "metadata": {
        "id": "view-in-github",
        "colab_type": "text"
      },
      "source": [
        "<a href=\"https://colab.research.google.com/github/GMaina716/WEEK-3-IP/blob/main/Moringa_Data_Science_Prep_W3_Independent_Project_2021_05_George_Maina_Python.ipynb\" target=\"_parent\"><img src=\"https://colab.research.google.com/assets/colab-badge.svg\" alt=\"Open In Colab\"/></a>"
      ]
    },
    {
      "cell_type": "code",
      "metadata": {
        "id": "vH74O0kczRzY"
      },
      "source": [
        "# we start by uploading the necssary packages that we will need\n",
        "import pandas as pd\n",
        "import numpy as np\n",
        "import matplotlib.pyplot as plt\n",
        "import seaborn as sns"
      ],
      "execution_count": 1,
      "outputs": []
    },
    {
      "cell_type": "markdown",
      "metadata": {
        "id": "_e8_rJDCF9uC"
      },
      "source": [
        "**Data Understanding and Data Prepapration**"
      ]
    },
    {
      "cell_type": "markdown",
      "metadata": {
        "id": "KMjvyYafGRN9"
      },
      "source": [
        "On this section, we will upload the data sets,\n",
        "then combine the datasets with daily records into one dataset called telcom.\n",
        "We will look for any anormalies in the data such us missing value and outliers\n",
        "Missing values will be filled or dropped depending on the extent of their numbers\n",
        "COlumns with values that will not be needed in the analysis will be dropped.\n",
        "We will analyse the two datasets separately by looking at the statistical attributes of the data.\n",
        "We will also look at the shape, size and dimensions of the individual datasets. \n",
        "We also will check for the number of missing values and uniques values in the columns\n",
        "Where there are outliers, we will drop the rows with them.\n",
        "We will then combine the cells dataset and the telcom dataset"
      ]
    },
    {
      "cell_type": "code",
      "metadata": {
        "id": "-FlufRy4zwnd"
      },
      "source": [
        "#importing the datasets to be used \n",
        "#four datasets have been provided\n",
        "cell=pd.read_csv('/content/cellsgeo.csv',sep = ';')\n",
        "td1=pd.read_csv('/content/Telcom_dataset.csv')\n",
        "td2=pd.read_csv('/content/Telcom_dataset2.csv')\n",
        "td3=pd.read_csv('/content/Telcom_dataset3.csv')"
      ],
      "execution_count": 2,
      "outputs": []
    },
    {
      "cell_type": "code",
      "metadata": {
        "id": "i1ejij-N1KO6",
        "colab": {
          "base_uri": "https://localhost:8080/",
          "height": 133
        },
        "outputId": "0b1023c2-3590-4dbd-f2ac-9f1b7acdf002"
      },
      "source": [
        "#tocreate a copy of the first dataset\n",
        "cells=cell\n",
        "cells.head(3)"
      ],
      "execution_count": 3,
      "outputs": [
        {
          "output_type": "execute_result",
          "data": {
            "text/html": [
              "<div>\n",
              "<style scoped>\n",
              "    .dataframe tbody tr th:only-of-type {\n",
              "        vertical-align: middle;\n",
              "    }\n",
              "\n",
              "    .dataframe tbody tr th {\n",
              "        vertical-align: top;\n",
              "    }\n",
              "\n",
              "    .dataframe thead th {\n",
              "        text-align: right;\n",
              "    }\n",
              "</style>\n",
              "<table border=\"1\" class=\"dataframe\">\n",
              "  <thead>\n",
              "    <tr style=\"text-align: right;\">\n",
              "      <th></th>\n",
              "      <th>Unnamed: 0</th>\n",
              "      <th>VILLES</th>\n",
              "      <th>STATUS</th>\n",
              "      <th>LOCALISATION</th>\n",
              "      <th>DECOUPZONE</th>\n",
              "      <th>ZONENAME</th>\n",
              "      <th>LONGITUDE</th>\n",
              "      <th>LATITUDE</th>\n",
              "      <th>REGION</th>\n",
              "      <th>AREA</th>\n",
              "      <th>CELL_ID</th>\n",
              "      <th>SITE_CODE</th>\n",
              "    </tr>\n",
              "  </thead>\n",
              "  <tbody>\n",
              "    <tr>\n",
              "      <th>0</th>\n",
              "      <td>0</td>\n",
              "      <td>ADJAME</td>\n",
              "      <td>In Service</td>\n",
              "      <td>ABIDJAN</td>\n",
              "      <td>\"Abidjan_EST</td>\n",
              "      <td>AGBANNEW</td>\n",
              "      <td>-4.000667</td>\n",
              "      <td>5.368194</td>\n",
              "      <td>LAGUNE</td>\n",
              "      <td>NaN</td>\n",
              "      <td>fbb2e75af3</td>\n",
              "      <td>0bb492ef17</td>\n",
              "    </tr>\n",
              "    <tr>\n",
              "      <th>1</th>\n",
              "      <td>1</td>\n",
              "      <td>ADJAME</td>\n",
              "      <td>In Service</td>\n",
              "      <td>ABIDJAN</td>\n",
              "      <td>\"Abidjan_EST</td>\n",
              "      <td>AGBANNEW</td>\n",
              "      <td>-4.000667</td>\n",
              "      <td>5.368194</td>\n",
              "      <td>LAGUNE</td>\n",
              "      <td>NaN</td>\n",
              "      <td>1502501d78</td>\n",
              "      <td>0bb492ef17</td>\n",
              "    </tr>\n",
              "    <tr>\n",
              "      <th>2</th>\n",
              "      <td>2</td>\n",
              "      <td>ADJAME</td>\n",
              "      <td>In Service</td>\n",
              "      <td>ABIDJAN</td>\n",
              "      <td>\"Abidjan_EST</td>\n",
              "      <td>AGBANNEW</td>\n",
              "      <td>-4.000667</td>\n",
              "      <td>5.368194</td>\n",
              "      <td>LAGUNE</td>\n",
              "      <td>NaN</td>\n",
              "      <td>0c2e182a0c</td>\n",
              "      <td>0bb492ef17</td>\n",
              "    </tr>\n",
              "  </tbody>\n",
              "</table>\n",
              "</div>"
            ],
            "text/plain": [
              "   Unnamed: 0  VILLES      STATUS  ... AREA     CELL_ID   SITE_CODE\n",
              "0           0  ADJAME  In Service  ...  NaN  fbb2e75af3  0bb492ef17\n",
              "1           1  ADJAME  In Service  ...  NaN  1502501d78  0bb492ef17\n",
              "2           2  ADJAME  In Service  ...  NaN  0c2e182a0c  0bb492ef17\n",
              "\n",
              "[3 rows x 12 columns]"
            ]
          },
          "metadata": {
            "tags": []
          },
          "execution_count": 3
        }
      ]
    },
    {
      "cell_type": "code",
      "metadata": {
        "colab": {
          "base_uri": "https://localhost:8080/"
        },
        "id": "HU4OHZM31PDm",
        "outputId": "162cd330-a2ba-41d2-9650-82019d6907c6"
      },
      "source": [
        "# we start by lookingat how our dataset is\n",
        "cells.info()"
      ],
      "execution_count": 4,
      "outputs": [
        {
          "output_type": "stream",
          "text": [
            "<class 'pandas.core.frame.DataFrame'>\n",
            "RangeIndex: 3974 entries, 0 to 3973\n",
            "Data columns (total 12 columns):\n",
            " #   Column        Non-Null Count  Dtype  \n",
            "---  ------        --------------  -----  \n",
            " 0   Unnamed: 0    3974 non-null   int64  \n",
            " 1   VILLES        3974 non-null   object \n",
            " 2   STATUS        3907 non-null   object \n",
            " 3   LOCALISATION  3974 non-null   object \n",
            " 4   DECOUPZONE    3974 non-null   object \n",
            " 5   ZONENAME      3968 non-null   object \n",
            " 6   LONGITUDE     3974 non-null   float64\n",
            " 7   LATITUDE      3974 non-null   float64\n",
            " 8   REGION        3974 non-null   object \n",
            " 9   AREA          3951 non-null   object \n",
            " 10  CELL_ID       3974 non-null   object \n",
            " 11  SITE_CODE     3974 non-null   object \n",
            "dtypes: float64(2), int64(1), object(9)\n",
            "memory usage: 372.7+ KB\n"
          ],
          "name": "stdout"
        }
      ]
    },
    {
      "cell_type": "code",
      "metadata": {
        "colab": {
          "base_uri": "https://localhost:8080/"
        },
        "id": "1XLKbbM61PE1",
        "outputId": "111cbccc-4259-4f84-d69a-88c10fc365f0"
      },
      "source": [
        "#from the cell above,w e see that there are columns with missing values\n",
        "# we will get the missing values and the columns they are in\n",
        "column_missing=cells.isna().sum()\n",
        "column_missing=column_missing[column_missing!=0]\n",
        "print('columns wit missing values:',len(column_missing))\n",
        "\n",
        "column_missing.sort_values(ascending=False)"
      ],
      "execution_count": 5,
      "outputs": [
        {
          "output_type": "stream",
          "text": [
            "columns wit missing values: 3\n"
          ],
          "name": "stdout"
        },
        {
          "output_type": "execute_result",
          "data": {
            "text/plain": [
              "STATUS      67\n",
              "AREA        23\n",
              "ZONENAME     6\n",
              "dtype: int64"
            ]
          },
          "metadata": {
            "tags": []
          },
          "execution_count": 5
        }
      ]
    },
    {
      "cell_type": "code",
      "metadata": {
        "id": "IQUMhAgp1PIR"
      },
      "source": [
        "# from the cell above, We observe that there are 3 columns with missing data\n",
        "# the columns are STATUS, ZONENAME,AREA\n",
        "# The 3 columns have little missing data and thus we can drop the rows with missing data in thos columns\n",
        "#status has 67 missing data points\n",
        "#zonename has 6 missing data points\n",
        "#area has 23 missing data points\n",
        "# we will fill the missing data points using different techniques"
      ],
      "execution_count": 6,
      "outputs": []
    },
    {
      "cell_type": "code",
      "metadata": {
        "colab": {
          "base_uri": "https://localhost:8080/",
          "height": 133
        },
        "id": "mAf_me1O1m3v",
        "outputId": "e07226b4-3c17-4fbc-b880-d26640e63785"
      },
      "source": [
        "# to find the percentage of missing value points relative to their totals\n",
        "column_missing2=cells.isna().sum()/cells.isna().count().sort_values(ascending=False)\n",
        "column_missing2=column_missing2[column_missing2!=0]\n",
        "column_missing2.sort_values(ascending=False)\n",
        "\n",
        "\n",
        "#we the combine the percentage missing values and the number of missing values into one table using concat method\n",
        "missing_table=pd.concat([column_missing,column_missing2],axis=1,sort=False,keys=[\"total\",\"Percentage\"])\n",
        "missing_table"
      ],
      "execution_count": 7,
      "outputs": [
        {
          "output_type": "execute_result",
          "data": {
            "text/html": [
              "<div>\n",
              "<style scoped>\n",
              "    .dataframe tbody tr th:only-of-type {\n",
              "        vertical-align: middle;\n",
              "    }\n",
              "\n",
              "    .dataframe tbody tr th {\n",
              "        vertical-align: top;\n",
              "    }\n",
              "\n",
              "    .dataframe thead th {\n",
              "        text-align: right;\n",
              "    }\n",
              "</style>\n",
              "<table border=\"1\" class=\"dataframe\">\n",
              "  <thead>\n",
              "    <tr style=\"text-align: right;\">\n",
              "      <th></th>\n",
              "      <th>total</th>\n",
              "      <th>Percentage</th>\n",
              "    </tr>\n",
              "  </thead>\n",
              "  <tbody>\n",
              "    <tr>\n",
              "      <th>STATUS</th>\n",
              "      <td>67</td>\n",
              "      <td>0.016860</td>\n",
              "    </tr>\n",
              "    <tr>\n",
              "      <th>ZONENAME</th>\n",
              "      <td>6</td>\n",
              "      <td>0.001510</td>\n",
              "    </tr>\n",
              "    <tr>\n",
              "      <th>AREA</th>\n",
              "      <td>23</td>\n",
              "      <td>0.005788</td>\n",
              "    </tr>\n",
              "  </tbody>\n",
              "</table>\n",
              "</div>"
            ],
            "text/plain": [
              "          total  Percentage\n",
              "STATUS       67    0.016860\n",
              "ZONENAME      6    0.001510\n",
              "AREA         23    0.005788"
            ]
          },
          "metadata": {
            "tags": []
          },
          "execution_count": 7
        }
      ]
    },
    {
      "cell_type": "code",
      "metadata": {
        "id": "1V7HNLE-1m42"
      },
      "source": [
        "#We fill the columns with missing values\n",
        "cells['STATUS'].fillna(method='bfill',inplace=True)\n",
        "cells['ZONENAME'].fillna(method='bfill',inplace=True)\n",
        "cells['AREA'].fillna(\"unknown\",inplace=True)\n",
        "\n",
        "# we drop columns that we will not be using for our analysis\n",
        "cell.drop('Unnamed: 0',axis=1,inplace=True)\n",
        "cell.drop(['LONGITUDE','LATITUDE'],axis=1,inplace=True)"
      ],
      "execution_count": 8,
      "outputs": []
    },
    {
      "cell_type": "code",
      "metadata": {
        "colab": {
          "base_uri": "https://localhost:8080/",
          "height": 133
        },
        "id": "9hLbkKRn1m8G",
        "outputId": "b41cead9-5c45-4f28-c760-3e49646b6c95"
      },
      "source": [
        "# a grimpse of how our dataset looks like\n",
        "cells.head(3)"
      ],
      "execution_count": 9,
      "outputs": [
        {
          "output_type": "execute_result",
          "data": {
            "text/html": [
              "<div>\n",
              "<style scoped>\n",
              "    .dataframe tbody tr th:only-of-type {\n",
              "        vertical-align: middle;\n",
              "    }\n",
              "\n",
              "    .dataframe tbody tr th {\n",
              "        vertical-align: top;\n",
              "    }\n",
              "\n",
              "    .dataframe thead th {\n",
              "        text-align: right;\n",
              "    }\n",
              "</style>\n",
              "<table border=\"1\" class=\"dataframe\">\n",
              "  <thead>\n",
              "    <tr style=\"text-align: right;\">\n",
              "      <th></th>\n",
              "      <th>VILLES</th>\n",
              "      <th>STATUS</th>\n",
              "      <th>LOCALISATION</th>\n",
              "      <th>DECOUPZONE</th>\n",
              "      <th>ZONENAME</th>\n",
              "      <th>REGION</th>\n",
              "      <th>AREA</th>\n",
              "      <th>CELL_ID</th>\n",
              "      <th>SITE_CODE</th>\n",
              "    </tr>\n",
              "  </thead>\n",
              "  <tbody>\n",
              "    <tr>\n",
              "      <th>0</th>\n",
              "      <td>ADJAME</td>\n",
              "      <td>In Service</td>\n",
              "      <td>ABIDJAN</td>\n",
              "      <td>\"Abidjan_EST</td>\n",
              "      <td>AGBANNEW</td>\n",
              "      <td>LAGUNE</td>\n",
              "      <td>unknown</td>\n",
              "      <td>fbb2e75af3</td>\n",
              "      <td>0bb492ef17</td>\n",
              "    </tr>\n",
              "    <tr>\n",
              "      <th>1</th>\n",
              "      <td>ADJAME</td>\n",
              "      <td>In Service</td>\n",
              "      <td>ABIDJAN</td>\n",
              "      <td>\"Abidjan_EST</td>\n",
              "      <td>AGBANNEW</td>\n",
              "      <td>LAGUNE</td>\n",
              "      <td>unknown</td>\n",
              "      <td>1502501d78</td>\n",
              "      <td>0bb492ef17</td>\n",
              "    </tr>\n",
              "    <tr>\n",
              "      <th>2</th>\n",
              "      <td>ADJAME</td>\n",
              "      <td>In Service</td>\n",
              "      <td>ABIDJAN</td>\n",
              "      <td>\"Abidjan_EST</td>\n",
              "      <td>AGBANNEW</td>\n",
              "      <td>LAGUNE</td>\n",
              "      <td>unknown</td>\n",
              "      <td>0c2e182a0c</td>\n",
              "      <td>0bb492ef17</td>\n",
              "    </tr>\n",
              "  </tbody>\n",
              "</table>\n",
              "</div>"
            ],
            "text/plain": [
              "   VILLES      STATUS LOCALISATION  ...     AREA     CELL_ID   SITE_CODE\n",
              "0  ADJAME  In Service      ABIDJAN  ...  unknown  fbb2e75af3  0bb492ef17\n",
              "1  ADJAME  In Service      ABIDJAN  ...  unknown  1502501d78  0bb492ef17\n",
              "2  ADJAME  In Service      ABIDJAN  ...  unknown  0c2e182a0c  0bb492ef17\n",
              "\n",
              "[3 rows x 9 columns]"
            ]
          },
          "metadata": {
            "tags": []
          },
          "execution_count": 9
        }
      ]
    },
    {
      "cell_type": "code",
      "metadata": {
        "colab": {
          "base_uri": "https://localhost:8080/"
        },
        "id": "aEowLWf93qUo",
        "outputId": "53bc9169-0721-428d-bb60-75aa8e7a3fef"
      },
      "source": [
        "# to get the shape, size and dimesions of the dataset \n",
        "print('cells table has shape:',cells.shape)\n",
        "print('cells table is of size:',cells.size)\n",
        "print('cells table is of dimension:',cells.ndim)"
      ],
      "execution_count": 10,
      "outputs": [
        {
          "output_type": "stream",
          "text": [
            "cells table has shape: (3974, 9)\n",
            "cells table is of size: 35766\n",
            "cells table is of dimension: 2\n"
          ],
          "name": "stdout"
        }
      ]
    },
    {
      "cell_type": "code",
      "metadata": {
        "colab": {
          "base_uri": "https://localhost:8080/"
        },
        "id": "i4N0Bzmu2RP8",
        "outputId": "67d13e9e-4acf-4f4c-97f6-f5acaf111421"
      },
      "source": [
        "# to look for the number of unique values in the columns\n",
        "for i in cells:\n",
        "    print(i,cells[i].nunique())\n",
        "\n",
        "# Interpretation of this is that\n",
        "#in the column vile, there are 504 unique cities/ town"
      ],
      "execution_count": 11,
      "outputs": [
        {
          "output_type": "stream",
          "text": [
            "VILLES 504\n",
            "STATUS 1\n",
            "LOCALISATION 2\n",
            "DECOUPZONE 15\n",
            "ZONENAME 33\n",
            "REGION 19\n",
            "AREA 7\n",
            "CELL_ID 3916\n",
            "SITE_CODE 1029\n"
          ],
          "name": "stdout"
        }
      ]
    },
    {
      "cell_type": "code",
      "metadata": {
        "colab": {
          "base_uri": "https://localhost:8080/",
          "height": 162
        },
        "id": "jQigeaz12RRD",
        "outputId": "6555ad88-1614-4023-b27a-b9654f4bac6a"
      },
      "source": [
        "# the describe method helps us to get summary characteristics of numerical values\n",
        "cells.describe()"
      ],
      "execution_count": 12,
      "outputs": [
        {
          "output_type": "execute_result",
          "data": {
            "text/html": [
              "<div>\n",
              "<style scoped>\n",
              "    .dataframe tbody tr th:only-of-type {\n",
              "        vertical-align: middle;\n",
              "    }\n",
              "\n",
              "    .dataframe tbody tr th {\n",
              "        vertical-align: top;\n",
              "    }\n",
              "\n",
              "    .dataframe thead th {\n",
              "        text-align: right;\n",
              "    }\n",
              "</style>\n",
              "<table border=\"1\" class=\"dataframe\">\n",
              "  <thead>\n",
              "    <tr style=\"text-align: right;\">\n",
              "      <th></th>\n",
              "      <th>VILLES</th>\n",
              "      <th>STATUS</th>\n",
              "      <th>LOCALISATION</th>\n",
              "      <th>DECOUPZONE</th>\n",
              "      <th>ZONENAME</th>\n",
              "      <th>REGION</th>\n",
              "      <th>AREA</th>\n",
              "      <th>CELL_ID</th>\n",
              "      <th>SITE_CODE</th>\n",
              "    </tr>\n",
              "  </thead>\n",
              "  <tbody>\n",
              "    <tr>\n",
              "      <th>count</th>\n",
              "      <td>3974</td>\n",
              "      <td>3974</td>\n",
              "      <td>3974</td>\n",
              "      <td>3974</td>\n",
              "      <td>3974</td>\n",
              "      <td>3974</td>\n",
              "      <td>3974</td>\n",
              "      <td>3974</td>\n",
              "      <td>3974</td>\n",
              "    </tr>\n",
              "    <tr>\n",
              "      <th>unique</th>\n",
              "      <td>504</td>\n",
              "      <td>1</td>\n",
              "      <td>2</td>\n",
              "      <td>15</td>\n",
              "      <td>33</td>\n",
              "      <td>19</td>\n",
              "      <td>7</td>\n",
              "      <td>3916</td>\n",
              "      <td>1029</td>\n",
              "    </tr>\n",
              "    <tr>\n",
              "      <th>top</th>\n",
              "      <td>COCODY</td>\n",
              "      <td>In Service</td>\n",
              "      <td>INTERIEUR</td>\n",
              "      <td>Grand-OUEST</td>\n",
              "      <td>ZONE D - Grand-OUEST</td>\n",
              "      <td>LAGUNE</td>\n",
              "      <td>ABIDJAN NORTH</td>\n",
              "      <td>6750e0fb7b</td>\n",
              "      <td>20387d4292</td>\n",
              "    </tr>\n",
              "    <tr>\n",
              "      <th>freq</th>\n",
              "      <td>354</td>\n",
              "      <td>3974</td>\n",
              "      <td>2305</td>\n",
              "      <td>528</td>\n",
              "      <td>530</td>\n",
              "      <td>1850</td>\n",
              "      <td>1222</td>\n",
              "      <td>39</td>\n",
              "      <td>42</td>\n",
              "    </tr>\n",
              "  </tbody>\n",
              "</table>\n",
              "</div>"
            ],
            "text/plain": [
              "        VILLES      STATUS LOCALISATION  ...           AREA     CELL_ID   SITE_CODE\n",
              "count     3974        3974         3974  ...           3974        3974        3974\n",
              "unique     504           1            2  ...              7        3916        1029\n",
              "top     COCODY  In Service    INTERIEUR  ...  ABIDJAN NORTH  6750e0fb7b  20387d4292\n",
              "freq       354        3974         2305  ...           1222          39          42\n",
              "\n",
              "[4 rows x 9 columns]"
            ]
          },
          "metadata": {
            "tags": []
          },
          "execution_count": 12
        }
      ]
    },
    {
      "cell_type": "code",
      "metadata": {
        "colab": {
          "base_uri": "https://localhost:8080/"
        },
        "id": "ywiVkNfm2RVg",
        "outputId": "f29617b3-e94a-499d-82c3-6dd690cf615d"
      },
      "source": [
        "# to look at the most repeated values per column\n",
        "for i in cells:\n",
        "    print(i,cell[i].mode())"
      ],
      "execution_count": 13,
      "outputs": [
        {
          "output_type": "stream",
          "text": [
            "VILLES 0    COCODY\n",
            "dtype: object\n",
            "STATUS 0    In Service\n",
            "dtype: object\n",
            "LOCALISATION 0    INTERIEUR\n",
            "dtype: object\n",
            "DECOUPZONE 0    Grand-OUEST\n",
            "dtype: object\n",
            "ZONENAME 0    ZONE D - Grand-OUEST\n",
            "dtype: object\n",
            "REGION 0    LAGUNE\n",
            "dtype: object\n",
            "AREA 0    ABIDJAN NORTH\n",
            "dtype: object\n",
            "CELL_ID 0    6750e0fb7b\n",
            "dtype: object\n",
            "SITE_CODE 0    20387d4292\n",
            "dtype: object\n"
          ],
          "name": "stdout"
        }
      ]
    },
    {
      "cell_type": "code",
      "metadata": {
        "colab": {
          "base_uri": "https://localhost:8080/"
        },
        "id": "gPuSg3NS1m9o",
        "outputId": "6cc4a420-f8c4-44f8-f2ba-64b425d1e893"
      },
      "source": [
        "#to check the type of data types for each column\n",
        "cells.dtypes"
      ],
      "execution_count": 14,
      "outputs": [
        {
          "output_type": "execute_result",
          "data": {
            "text/plain": [
              "VILLES          object\n",
              "STATUS          object\n",
              "LOCALISATION    object\n",
              "DECOUPZONE      object\n",
              "ZONENAME        object\n",
              "REGION          object\n",
              "AREA            object\n",
              "CELL_ID         object\n",
              "SITE_CODE       object\n",
              "dtype: object"
            ]
          },
          "metadata": {
            "tags": []
          },
          "execution_count": 14
        }
      ]
    },
    {
      "cell_type": "code",
      "metadata": {
        "id": "AAlUJRkgIG5J"
      },
      "source": [
        ""
      ],
      "execution_count": 14,
      "outputs": []
    },
    {
      "cell_type": "code",
      "metadata": {
        "colab": {
          "base_uri": "https://localhost:8080/",
          "height": 133
        },
        "id": "k9pabp-e1nBS",
        "outputId": "ab791c59-ff95-49f2-a430-8b7e880f96a8"
      },
      "source": [
        "#merge the other three datasets into one big table\n",
        "telcom = pd.concat([td1,td2,td3],axis=0,sort=False)\n",
        "telcom.head(3)"
      ],
      "execution_count": 15,
      "outputs": [
        {
          "output_type": "execute_result",
          "data": {
            "text/html": [
              "<div>\n",
              "<style scoped>\n",
              "    .dataframe tbody tr th:only-of-type {\n",
              "        vertical-align: middle;\n",
              "    }\n",
              "\n",
              "    .dataframe tbody tr th {\n",
              "        vertical-align: top;\n",
              "    }\n",
              "\n",
              "    .dataframe thead th {\n",
              "        text-align: right;\n",
              "    }\n",
              "</style>\n",
              "<table border=\"1\" class=\"dataframe\">\n",
              "  <thead>\n",
              "    <tr style=\"text-align: right;\">\n",
              "      <th></th>\n",
              "      <th>PRODUCT</th>\n",
              "      <th>VALUE</th>\n",
              "      <th>DATE_TIME</th>\n",
              "      <th>CELL_ON_SITE</th>\n",
              "      <th>DW_A_NUMBER_INT</th>\n",
              "      <th>DW_B_NUMBER_INT</th>\n",
              "      <th>COUNTRY_A</th>\n",
              "      <th>COUNTRY_B</th>\n",
              "      <th>CELL_ID</th>\n",
              "      <th>SITE_ID</th>\n",
              "    </tr>\n",
              "  </thead>\n",
              "  <tbody>\n",
              "    <tr>\n",
              "      <th>0</th>\n",
              "      <td>Voice</td>\n",
              "      <td>0</td>\n",
              "      <td>04:37.0</td>\n",
              "      <td>1</td>\n",
              "      <td>49fae048b547780</td>\n",
              "      <td>1a49f8b0ded9de6</td>\n",
              "      <td>19e2e</td>\n",
              "      <td>19e2e</td>\n",
              "      <td>/TJNe+Mmtu</td>\n",
              "      <td>/TJNe+Mmtu</td>\n",
              "    </tr>\n",
              "    <tr>\n",
              "      <th>1</th>\n",
              "      <td>sms</td>\n",
              "      <td>0</td>\n",
              "      <td>05:25.0</td>\n",
              "      <td>0</td>\n",
              "      <td>7a54a6eaee19e65</td>\n",
              "      <td>93343ba6e41af95</td>\n",
              "      <td>19e2e</td>\n",
              "      <td>19e2e</td>\n",
              "      <td>/+cKZKIp41</td>\n",
              "      <td>/+cKZKIp41</td>\n",
              "    </tr>\n",
              "    <tr>\n",
              "      <th>2</th>\n",
              "      <td>sms</td>\n",
              "      <td>25</td>\n",
              "      <td>05:41.0</td>\n",
              "      <td>0</td>\n",
              "      <td>6008887b0207d82</td>\n",
              "      <td>7aacc9709ce0a20</td>\n",
              "      <td>19e2e</td>\n",
              "      <td>19e2e</td>\n",
              "      <td>/u0FSD+ahi</td>\n",
              "      <td>/u0FSD+ahi</td>\n",
              "    </tr>\n",
              "  </tbody>\n",
              "</table>\n",
              "</div>"
            ],
            "text/plain": [
              "  PRODUCT  VALUE DATE_TIME  ... COUNTRY_B     CELL_ID     SITE_ID\n",
              "0   Voice      0   04:37.0  ...     19e2e  /TJNe+Mmtu  /TJNe+Mmtu\n",
              "1     sms      0   05:25.0  ...     19e2e  /+cKZKIp41  /+cKZKIp41\n",
              "2     sms     25   05:41.0  ...     19e2e  /u0FSD+ahi  /u0FSD+ahi\n",
              "\n",
              "[3 rows x 10 columns]"
            ]
          },
          "metadata": {
            "tags": []
          },
          "execution_count": 15
        }
      ]
    },
    {
      "cell_type": "code",
      "metadata": {
        "colab": {
          "base_uri": "https://localhost:8080/"
        },
        "id": "GGuEA9Qm26YH",
        "outputId": "f153a46d-a84a-4240-e40a-7f39cde7a100"
      },
      "source": [
        "#look at its shape,size and dimensions\n",
        "print('telcom table has shape:',telcom.shape)\n",
        "print('telcom table is of size:',telcom.size)\n",
        "print('telcom table is of dimension:',telcom.ndim)"
      ],
      "execution_count": 16,
      "outputs": [
        {
          "output_type": "stream",
          "text": [
            "telcom table has shape: (15003, 10)\n",
            "telcom table is of size: 150030\n",
            "telcom table is of dimension: 2\n"
          ],
          "name": "stdout"
        }
      ]
    },
    {
      "cell_type": "code",
      "metadata": {
        "colab": {
          "base_uri": "https://localhost:8080/"
        },
        "id": "_k-p5ULD26Zd",
        "outputId": "d00ca734-519c-44e2-9896-102b6b01cf51"
      },
      "source": [
        "#getting a quick view of how our new dataset is\n",
        "telcom.info()"
      ],
      "execution_count": 17,
      "outputs": [
        {
          "output_type": "stream",
          "text": [
            "<class 'pandas.core.frame.DataFrame'>\n",
            "Int64Index: 15003 entries, 0 to 5000\n",
            "Data columns (total 10 columns):\n",
            " #   Column           Non-Null Count  Dtype \n",
            "---  ------           --------------  ----- \n",
            " 0   PRODUCT          15003 non-null  object\n",
            " 1   VALUE            15003 non-null  int64 \n",
            " 2   DATE_TIME        15003 non-null  object\n",
            " 3   CELL_ON_SITE     15003 non-null  object\n",
            " 4   DW_A_NUMBER_INT  15003 non-null  object\n",
            " 5   DW_B_NUMBER_INT  15003 non-null  object\n",
            " 6   COUNTRY_A        15003 non-null  object\n",
            " 7   COUNTRY_B        15003 non-null  object\n",
            " 8   CELL_ID          15003 non-null  object\n",
            " 9   SITE_ID          13006 non-null  object\n",
            "dtypes: int64(1), object(9)\n",
            "memory usage: 1.3+ MB\n"
          ],
          "name": "stdout"
        }
      ]
    },
    {
      "cell_type": "code",
      "metadata": {
        "colab": {
          "base_uri": "https://localhost:8080/"
        },
        "id": "Xs69x02y26dM",
        "outputId": "9493014d-7cbd-4a34-a2c4-5c761e0c1942"
      },
      "source": [
        "#looking for missing values in the new data fram\n",
        "missing3=telcom.isna().sum()\n",
        "missing3=missing3[missing3!=0]\n",
        "\n",
        "print('Number of missing variables per column', len(missing3))\n",
        "\n",
        "missing3.sort_values(ascending=False)"
      ],
      "execution_count": 18,
      "outputs": [
        {
          "output_type": "stream",
          "text": [
            "Number of missing variables per column 1\n"
          ],
          "name": "stdout"
        },
        {
          "output_type": "execute_result",
          "data": {
            "text/plain": [
              "SITE_ID    1997\n",
              "dtype: int64"
            ]
          },
          "metadata": {
            "tags": []
          },
          "execution_count": 18
        }
      ]
    },
    {
      "cell_type": "code",
      "metadata": {
        "id": "7QlxB28wRLeG"
      },
      "source": [
        "#from the column above we can see that site_ID hwas the only column with missing values"
      ],
      "execution_count": 19,
      "outputs": []
    },
    {
      "cell_type": "code",
      "metadata": {
        "colab": {
          "base_uri": "https://localhost:8080/",
          "height": 277
        },
        "id": "cHRDMnUv26e4",
        "outputId": "05e2348d-d8a0-46e2-e18d-173e5f3644c4"
      },
      "source": [
        "telcom.describe()"
      ],
      "execution_count": 20,
      "outputs": [
        {
          "output_type": "execute_result",
          "data": {
            "text/html": [
              "<div>\n",
              "<style scoped>\n",
              "    .dataframe tbody tr th:only-of-type {\n",
              "        vertical-align: middle;\n",
              "    }\n",
              "\n",
              "    .dataframe tbody tr th {\n",
              "        vertical-align: top;\n",
              "    }\n",
              "\n",
              "    .dataframe thead th {\n",
              "        text-align: right;\n",
              "    }\n",
              "</style>\n",
              "<table border=\"1\" class=\"dataframe\">\n",
              "  <thead>\n",
              "    <tr style=\"text-align: right;\">\n",
              "      <th></th>\n",
              "      <th>VALUE</th>\n",
              "    </tr>\n",
              "  </thead>\n",
              "  <tbody>\n",
              "    <tr>\n",
              "      <th>count</th>\n",
              "      <td>15003.000000</td>\n",
              "    </tr>\n",
              "    <tr>\n",
              "      <th>mean</th>\n",
              "      <td>25.548690</td>\n",
              "    </tr>\n",
              "    <tr>\n",
              "      <th>std</th>\n",
              "      <td>152.916219</td>\n",
              "    </tr>\n",
              "    <tr>\n",
              "      <th>min</th>\n",
              "      <td>0.000000</td>\n",
              "    </tr>\n",
              "    <tr>\n",
              "      <th>25%</th>\n",
              "      <td>0.000000</td>\n",
              "    </tr>\n",
              "    <tr>\n",
              "      <th>50%</th>\n",
              "      <td>0.000000</td>\n",
              "    </tr>\n",
              "    <tr>\n",
              "      <th>75%</th>\n",
              "      <td>25.000000</td>\n",
              "    </tr>\n",
              "    <tr>\n",
              "      <th>max</th>\n",
              "      <td>12900.000000</td>\n",
              "    </tr>\n",
              "  </tbody>\n",
              "</table>\n",
              "</div>"
            ],
            "text/plain": [
              "              VALUE\n",
              "count  15003.000000\n",
              "mean      25.548690\n",
              "std      152.916219\n",
              "min        0.000000\n",
              "25%        0.000000\n",
              "50%        0.000000\n",
              "75%       25.000000\n",
              "max    12900.000000"
            ]
          },
          "metadata": {
            "tags": []
          },
          "execution_count": 20
        }
      ]
    },
    {
      "cell_type": "code",
      "metadata": {
        "colab": {
          "base_uri": "https://localhost:8080/",
          "height": 607
        },
        "id": "J-l9Q0Zc26iO",
        "outputId": "7aa472d1-420a-4ead-a2a0-9e30f41e5066"
      },
      "source": [
        "#we observe that the records in the values column have an outlier\n",
        "#the maximum value is 12900. # this is illogical\n",
        "#we treat the value as an outlier.\n",
        "#outliers are droped\n",
        "plt.figure(figsize=(8,10))\n",
        "plt.title('Box Plot of Value to Look For Outliers',color='blue')\n",
        "plt.boxplot(telcom['VALUE'])\n",
        "plt.show()"
      ],
      "execution_count": 21,
      "outputs": [
        {
          "output_type": "display_data",
          "data": {
            "image/png": "[encoded data removed]",
            "text/plain": [
              "<Figure size 576x720 with 1 Axes>"
            ]
          },
          "metadata": {
            "tags": [],
            "needs_background": "light"
          }
        }
      ]
    },
    {
      "cell_type": "code",
      "metadata": {
        "colab": {
          "base_uri": "https://localhost:8080/"
        },
        "id": "pJ7xoyO_4ViP",
        "outputId": "b59b8cbb-179f-453d-a96c-2f94443da40c"
      },
      "source": [
        "#from the boxplot we can observe that there are other 7 outlier values\n",
        "#most of the data lies between 0 and 2400\n",
        "#we willd drop rows with this outlier values\n",
        "#threshold=2400\n",
        "print(np.where(telcom['VALUE']>2400))\n",
        "todrop=telcom[(telcom['VALUE']==1128) & (telcom['VALUE']==6072) & (telcom['VALUE']==10460) & (telcom['VALUE']==11552) & (telcom['VALUE']==11838)].index\n",
        "telcom.drop(todrop , inplace=True)"
      ],
      "execution_count": 22,
      "outputs": [
        {
          "output_type": "stream",
          "text": [
            "(array([ 1228,  6072, 10460, 11552, 11838]),)\n"
          ],
          "name": "stdout"
        }
      ]
    },
    {
      "cell_type": "markdown",
      "metadata": {
        "id": "FDL-7btel5qh"
      },
      "source": [
        "To merge the two tables so as to have one dataset that we will use our analysis on"
      ]
    },
    {
      "cell_type": "code",
      "metadata": {
        "id": "6p5mu4jLjpTJ"
      },
      "source": [
        "# to merge the two tables\n",
        "# table cells and telecom"
      ],
      "execution_count": 23,
      "outputs": []
    },
    {
      "cell_type": "code",
      "metadata": {
        "id": "UJiwpA2WRbep"
      },
      "source": [
        "merged_telecom=cells.merge(telcom,how='inner',left_on=['SITE_CODE'],right_on=['SITE_ID'])"
      ],
      "execution_count": 24,
      "outputs": []
    },
    {
      "cell_type": "code",
      "metadata": {
        "colab": {
          "base_uri": "https://localhost:8080/",
          "height": 736
        },
        "id": "yj_Nwd69SATg",
        "outputId": "2e5f0441-c141-40a9-cfa6-412d9576ae32"
      },
      "source": [
        "merged_telecom.tail(100)"
      ],
      "execution_count": 25,
      "outputs": [
        {
          "output_type": "execute_result",
          "data": {
            "text/html": [
              "<div>\n",
              "<style scoped>\n",
              "    .dataframe tbody tr th:only-of-type {\n",
              "        vertical-align: middle;\n",
              "    }\n",
              "\n",
              "    .dataframe tbody tr th {\n",
              "        vertical-align: top;\n",
              "    }\n",
              "\n",
              "    .dataframe thead th {\n",
              "        text-align: right;\n",
              "    }\n",
              "</style>\n",
              "<table border=\"1\" class=\"dataframe\">\n",
              "  <thead>\n",
              "    <tr style=\"text-align: right;\">\n",
              "      <th></th>\n",
              "      <th>VILLES</th>\n",
              "      <th>STATUS</th>\n",
              "      <th>LOCALISATION</th>\n",
              "      <th>DECOUPZONE</th>\n",
              "      <th>ZONENAME</th>\n",
              "      <th>REGION</th>\n",
              "      <th>AREA</th>\n",
              "      <th>CELL_ID_x</th>\n",
              "      <th>SITE_CODE</th>\n",
              "      <th>PRODUCT</th>\n",
              "      <th>VALUE</th>\n",
              "      <th>DATE_TIME</th>\n",
              "      <th>CELL_ON_SITE</th>\n",
              "      <th>DW_A_NUMBER_INT</th>\n",
              "      <th>DW_B_NUMBER_INT</th>\n",
              "      <th>COUNTRY_A</th>\n",
              "      <th>COUNTRY_B</th>\n",
              "      <th>CELL_ID_y</th>\n",
              "      <th>SITE_ID</th>\n",
              "    </tr>\n",
              "  </thead>\n",
              "  <tbody>\n",
              "    <tr>\n",
              "      <th>51097</th>\n",
              "      <td>ZUENOULA</td>\n",
              "      <td>In Service</td>\n",
              "      <td>INTERIEUR</td>\n",
              "      <td>Grand-NORD</td>\n",
              "      <td>ZONE A - Grand-NORD</td>\n",
              "      <td>MARAHOUE</td>\n",
              "      <td>CENTRE NORTH</td>\n",
              "      <td>dcd3a41af8</td>\n",
              "      <td>f91ed8d2e9</td>\n",
              "      <td>Voice</td>\n",
              "      <td>476</td>\n",
              "      <td>01:01.0</td>\n",
              "      <td>2</td>\n",
              "      <td>ecc67366640f64e</td>\n",
              "      <td>be0a82a65d91e75</td>\n",
              "      <td>19e2e</td>\n",
              "      <td>19e2e</td>\n",
              "      <td>4db0540b25</td>\n",
              "      <td>f91ed8d2e9</td>\n",
              "    </tr>\n",
              "    <tr>\n",
              "      <th>51098</th>\n",
              "      <td>ZUENOULA</td>\n",
              "      <td>In Service</td>\n",
              "      <td>INTERIEUR</td>\n",
              "      <td>Grand-NORD</td>\n",
              "      <td>ZONE A - Grand-NORD</td>\n",
              "      <td>MARAHOUE</td>\n",
              "      <td>CENTRE NORTH</td>\n",
              "      <td>dcd3a41af8</td>\n",
              "      <td>f91ed8d2e9</td>\n",
              "      <td>Voice</td>\n",
              "      <td>44</td>\n",
              "      <td>01:09.0</td>\n",
              "      <td>2</td>\n",
              "      <td>f82c8e64823bdca</td>\n",
              "      <td>d511f63e43a374a</td>\n",
              "      <td>19e2e</td>\n",
              "      <td>19e2e</td>\n",
              "      <td>4db0540b25</td>\n",
              "      <td>f91ed8d2e9</td>\n",
              "    </tr>\n",
              "    <tr>\n",
              "      <th>51099</th>\n",
              "      <td>ZUENOULA</td>\n",
              "      <td>In Service</td>\n",
              "      <td>INTERIEUR</td>\n",
              "      <td>Grand-NORD</td>\n",
              "      <td>ZONE A - Grand-NORD</td>\n",
              "      <td>MARAHOUE</td>\n",
              "      <td>CENTRE NORTH</td>\n",
              "      <td>dcd3a41af8</td>\n",
              "      <td>f91ed8d2e9</td>\n",
              "      <td>sms</td>\n",
              "      <td>25</td>\n",
              "      <td>01:26.0</td>\n",
              "      <td>2</td>\n",
              "      <td>5cc978a7ae5eba1</td>\n",
              "      <td>a3c218ff1209099</td>\n",
              "      <td>19e2e</td>\n",
              "      <td>19e2e</td>\n",
              "      <td>4db0540b25</td>\n",
              "      <td>f91ed8d2e9</td>\n",
              "    </tr>\n",
              "    <tr>\n",
              "      <th>51100</th>\n",
              "      <td>ZUENOULA</td>\n",
              "      <td>In Service</td>\n",
              "      <td>INTERIEUR</td>\n",
              "      <td>Grand-NORD</td>\n",
              "      <td>ZONE A - Grand-NORD</td>\n",
              "      <td>MARAHOUE</td>\n",
              "      <td>CENTRE NORTH</td>\n",
              "      <td>dcd3a41af8</td>\n",
              "      <td>f91ed8d2e9</td>\n",
              "      <td>sms</td>\n",
              "      <td>0</td>\n",
              "      <td>01:27.0</td>\n",
              "      <td>0</td>\n",
              "      <td>432f9d20cd785a2</td>\n",
              "      <td>93343ba6e41af95</td>\n",
              "      <td>19e2e</td>\n",
              "      <td>19e2e</td>\n",
              "      <td>11318c21f7</td>\n",
              "      <td>f91ed8d2e9</td>\n",
              "    </tr>\n",
              "    <tr>\n",
              "      <th>51101</th>\n",
              "      <td>ZUENOULA</td>\n",
              "      <td>In Service</td>\n",
              "      <td>INTERIEUR</td>\n",
              "      <td>Grand-NORD</td>\n",
              "      <td>ZONE A - Grand-NORD</td>\n",
              "      <td>MARAHOUE</td>\n",
              "      <td>CENTRE NORTH</td>\n",
              "      <td>dcd3a41af8</td>\n",
              "      <td>f91ed8d2e9</td>\n",
              "      <td>Voice</td>\n",
              "      <td>25</td>\n",
              "      <td>00:19.0</td>\n",
              "      <td>2</td>\n",
              "      <td>680127334193d94</td>\n",
              "      <td>dc954ccd85af367</td>\n",
              "      <td>19e2e</td>\n",
              "      <td>19e2e</td>\n",
              "      <td>4db0540b25</td>\n",
              "      <td>f91ed8d2e9</td>\n",
              "    </tr>\n",
              "    <tr>\n",
              "      <th>...</th>\n",
              "      <td>...</td>\n",
              "      <td>...</td>\n",
              "      <td>...</td>\n",
              "      <td>...</td>\n",
              "      <td>...</td>\n",
              "      <td>...</td>\n",
              "      <td>...</td>\n",
              "      <td>...</td>\n",
              "      <td>...</td>\n",
              "      <td>...</td>\n",
              "      <td>...</td>\n",
              "      <td>...</td>\n",
              "      <td>...</td>\n",
              "      <td>...</td>\n",
              "      <td>...</td>\n",
              "      <td>...</td>\n",
              "      <td>...</td>\n",
              "      <td>...</td>\n",
              "      <td>...</td>\n",
              "    </tr>\n",
              "    <tr>\n",
              "      <th>51192</th>\n",
              "      <td>ZUENOULA</td>\n",
              "      <td>In Service</td>\n",
              "      <td>INTERIEUR</td>\n",
              "      <td>Grand-NORD</td>\n",
              "      <td>ZONE A - Grand-NORD</td>\n",
              "      <td>MARAHOUE</td>\n",
              "      <td>CENTRE NORTH</td>\n",
              "      <td>f9f3e42589</td>\n",
              "      <td>61bee9c70c</td>\n",
              "      <td>Voice</td>\n",
              "      <td>90</td>\n",
              "      <td>01:21.0</td>\n",
              "      <td>1</td>\n",
              "      <td>16b18134457df0c</td>\n",
              "      <td>741ce69ff5ae71f</td>\n",
              "      <td>19e2e</td>\n",
              "      <td>19e2e</td>\n",
              "      <td>c92be6915d</td>\n",
              "      <td>61bee9c70c</td>\n",
              "    </tr>\n",
              "    <tr>\n",
              "      <th>51193</th>\n",
              "      <td>ZUENOULA</td>\n",
              "      <td>In Service</td>\n",
              "      <td>INTERIEUR</td>\n",
              "      <td>Grand-NORD</td>\n",
              "      <td>ZONE A - Grand-NORD</td>\n",
              "      <td>MARAHOUE</td>\n",
              "      <td>CENTRE NORTH</td>\n",
              "      <td>f9f3e42589</td>\n",
              "      <td>61bee9c70c</td>\n",
              "      <td>Voice</td>\n",
              "      <td>0</td>\n",
              "      <td>00:12.0</td>\n",
              "      <td>1</td>\n",
              "      <td>799cfb18cce4f9b</td>\n",
              "      <td>28af748b735567c</td>\n",
              "      <td>19e2e</td>\n",
              "      <td>19e2e</td>\n",
              "      <td>c92be6915d</td>\n",
              "      <td>61bee9c70c</td>\n",
              "    </tr>\n",
              "    <tr>\n",
              "      <th>51194</th>\n",
              "      <td>ZUENOULA</td>\n",
              "      <td>In Service</td>\n",
              "      <td>INTERIEUR</td>\n",
              "      <td>Grand-NORD</td>\n",
              "      <td>ZONE A - Grand-NORD</td>\n",
              "      <td>MARAHOUE</td>\n",
              "      <td>CENTRE NORTH</td>\n",
              "      <td>f9f3e42589</td>\n",
              "      <td>61bee9c70c</td>\n",
              "      <td>sms</td>\n",
              "      <td>0</td>\n",
              "      <td>00:24.0</td>\n",
              "      <td>1</td>\n",
              "      <td>e4c44576789349d</td>\n",
              "      <td>65eca43003c502a</td>\n",
              "      <td>19e2e</td>\n",
              "      <td>19e2e</td>\n",
              "      <td>c92be6915d</td>\n",
              "      <td>61bee9c70c</td>\n",
              "    </tr>\n",
              "    <tr>\n",
              "      <th>51195</th>\n",
              "      <td>ZUENOULA</td>\n",
              "      <td>In Service</td>\n",
              "      <td>INTERIEUR</td>\n",
              "      <td>Grand-NORD</td>\n",
              "      <td>ZONE A - Grand-NORD</td>\n",
              "      <td>MARAHOUE</td>\n",
              "      <td>CENTRE NORTH</td>\n",
              "      <td>f9f3e42589</td>\n",
              "      <td>61bee9c70c</td>\n",
              "      <td>Voice</td>\n",
              "      <td>34</td>\n",
              "      <td>01:00.0</td>\n",
              "      <td>1</td>\n",
              "      <td>80b550ee361afad</td>\n",
              "      <td>21f9e5a5e35d2f0</td>\n",
              "      <td>19e2e</td>\n",
              "      <td>19e2e</td>\n",
              "      <td>c92be6915d</td>\n",
              "      <td>61bee9c70c</td>\n",
              "    </tr>\n",
              "    <tr>\n",
              "      <th>51196</th>\n",
              "      <td>ZUENOULA</td>\n",
              "      <td>In Service</td>\n",
              "      <td>INTERIEUR</td>\n",
              "      <td>Grand-NORD</td>\n",
              "      <td>ZONE A - Grand-NORD</td>\n",
              "      <td>MARAHOUE</td>\n",
              "      <td>CENTRE NORTH</td>\n",
              "      <td>f9f3e42589</td>\n",
              "      <td>61bee9c70c</td>\n",
              "      <td>sms</td>\n",
              "      <td>0</td>\n",
              "      <td>01:37.0</td>\n",
              "      <td>1</td>\n",
              "      <td>05fb44a35341a8f</td>\n",
              "      <td>cbc45d65009f36c</td>\n",
              "      <td>19e2e</td>\n",
              "      <td>19e2e</td>\n",
              "      <td>c92be6915d</td>\n",
              "      <td>61bee9c70c</td>\n",
              "    </tr>\n",
              "  </tbody>\n",
              "</table>\n",
              "<p>100 rows × 19 columns</p>\n",
              "</div>"
            ],
            "text/plain": [
              "         VILLES      STATUS LOCALISATION  ... COUNTRY_B   CELL_ID_y     SITE_ID\n",
              "51097  ZUENOULA  In Service    INTERIEUR  ...     19e2e  4db0540b25  f91ed8d2e9\n",
              "51098  ZUENOULA  In Service    INTERIEUR  ...     19e2e  4db0540b25  f91ed8d2e9\n",
              "51099  ZUENOULA  In Service    INTERIEUR  ...     19e2e  4db0540b25  f91ed8d2e9\n",
              "51100  ZUENOULA  In Service    INTERIEUR  ...     19e2e  11318c21f7  f91ed8d2e9\n",
              "51101  ZUENOULA  In Service    INTERIEUR  ...     19e2e  4db0540b25  f91ed8d2e9\n",
              "...         ...         ...          ...  ...       ...         ...         ...\n",
              "51192  ZUENOULA  In Service    INTERIEUR  ...     19e2e  c92be6915d  61bee9c70c\n",
              "51193  ZUENOULA  In Service    INTERIEUR  ...     19e2e  c92be6915d  61bee9c70c\n",
              "51194  ZUENOULA  In Service    INTERIEUR  ...     19e2e  c92be6915d  61bee9c70c\n",
              "51195  ZUENOULA  In Service    INTERIEUR  ...     19e2e  c92be6915d  61bee9c70c\n",
              "51196  ZUENOULA  In Service    INTERIEUR  ...     19e2e  c92be6915d  61bee9c70c\n",
              "\n",
              "[100 rows x 19 columns]"
            ]
          },
          "metadata": {
            "tags": []
          },
          "execution_count": 25
        }
      ]
    },
    {
      "cell_type": "code",
      "metadata": {
        "colab": {
          "base_uri": "https://localhost:8080/"
        },
        "id": "Gy6YbyqtplLP",
        "outputId": "46235d97-9a1a-40b8-b0e7-2f0ed06c1fff"
      },
      "source": [
        "#to drop duplicates\n",
        "merged_telecom.drop_duplicates(inplace=True)\n",
        "merged_telecom.shape"
      ],
      "execution_count": 26,
      "outputs": [
        {
          "output_type": "execute_result",
          "data": {
            "text/plain": [
              "(49451, 19)"
            ]
          },
          "metadata": {
            "tags": []
          },
          "execution_count": 26
        }
      ]
    },
    {
      "cell_type": "code",
      "metadata": {
        "colab": {
          "base_uri": "https://localhost:8080/"
        },
        "id": "eWzZKOPE4VkM",
        "outputId": "c4e0cd19-859e-4caf-f5df-9d29c1a6622e"
      },
      "source": [
        "merged_telecom.info()"
      ],
      "execution_count": 27,
      "outputs": [
        {
          "output_type": "stream",
          "text": [
            "<class 'pandas.core.frame.DataFrame'>\n",
            "Int64Index: 49451 entries, 0 to 51196\n",
            "Data columns (total 19 columns):\n",
            " #   Column           Non-Null Count  Dtype \n",
            "---  ------           --------------  ----- \n",
            " 0   VILLES           49451 non-null  object\n",
            " 1   STATUS           49451 non-null  object\n",
            " 2   LOCALISATION     49451 non-null  object\n",
            " 3   DECOUPZONE       49451 non-null  object\n",
            " 4   ZONENAME         49451 non-null  object\n",
            " 5   REGION           49451 non-null  object\n",
            " 6   AREA             49451 non-null  object\n",
            " 7   CELL_ID_x        49451 non-null  object\n",
            " 8   SITE_CODE        49451 non-null  object\n",
            " 9   PRODUCT          49451 non-null  object\n",
            " 10  VALUE            49451 non-null  int64 \n",
            " 11  DATE_TIME        49451 non-null  object\n",
            " 12  CELL_ON_SITE     49451 non-null  object\n",
            " 13  DW_A_NUMBER_INT  49451 non-null  object\n",
            " 14  DW_B_NUMBER_INT  49451 non-null  object\n",
            " 15  COUNTRY_A        49451 non-null  object\n",
            " 16  COUNTRY_B        49451 non-null  object\n",
            " 17  CELL_ID_y        49451 non-null  object\n",
            " 18  SITE_ID          49451 non-null  object\n",
            "dtypes: int64(1), object(18)\n",
            "memory usage: 7.5+ MB\n"
          ],
          "name": "stdout"
        }
      ]
    },
    {
      "cell_type": "code",
      "metadata": {
        "colab": {
          "base_uri": "https://localhost:8080/"
        },
        "id": "eXWb6qEtSYRN",
        "outputId": "9fa21507-afc4-4f5a-cd64-cb2444c0759d"
      },
      "source": [
        "merged_null=merged_telecom.isna().sum()\n",
        "merged_null=merged_null[merged_null!=0]\n",
        "print('number of columns with missing values are',len(merged_null))\n",
        "merged_null.sort_values(ascending=False)"
      ],
      "execution_count": 28,
      "outputs": [
        {
          "output_type": "stream",
          "text": [
            "number of columns with missing values are 0\n"
          ],
          "name": "stdout"
        },
        {
          "output_type": "execute_result",
          "data": {
            "text/plain": [
              "Series([], dtype: int64)"
            ]
          },
          "metadata": {
            "tags": []
          },
          "execution_count": 28
        }
      ]
    },
    {
      "cell_type": "code",
      "metadata": {
        "colab": {
          "base_uri": "https://localhost:8080/"
        },
        "id": "7KoED64d996B",
        "outputId": "aa4edecc-5a13-48a1-a7f3-98e96e852505"
      },
      "source": [
        "#to get a look at the attributes of the table\n",
        "print('shape of the combined dataset: ',merged_telecom.shape)\n",
        "print('size of the combined dataset: ',merged_telecom.size)\n",
        "print('dimensions of the merged dataset: ',merged_telecom.ndim)"
      ],
      "execution_count": 29,
      "outputs": [
        {
          "output_type": "stream",
          "text": [
            "shape of the combined dataset:  (49451, 19)\n",
            "size of the combined dataset:  939569\n",
            "dimensions of the merged dataset:  2\n"
          ],
          "name": "stdout"
        }
      ]
    },
    {
      "cell_type": "code",
      "metadata": {
        "id": "fZRBbEbhj-HO"
      },
      "source": [
        "#to drop columns that will not be needed in this analysis\n",
        "merged_telecom.drop(['LOCALISATION','DECOUPZONE','REGION','SITE_CODE','CELL_ON_SITE','DW_A_NUMBER_INT','DW_B_NUMBER_INT','COUNTRY_B','COUNTRY_A'],axis=1,inplace=True)"
      ],
      "execution_count": 30,
      "outputs": []
    },
    {
      "cell_type": "code",
      "metadata": {
        "colab": {
          "base_uri": "https://localhost:8080/"
        },
        "id": "jKFx-Wcclkx4",
        "outputId": "c593ee13-7155-4e04-8288-61c730ec5927"
      },
      "source": [
        "#to check if the columns have been dropped\n",
        "merged_telecom.columns"
      ],
      "execution_count": 31,
      "outputs": [
        {
          "output_type": "execute_result",
          "data": {
            "text/plain": [
              "Index(['VILLES', 'STATUS', 'ZONENAME', 'AREA', 'CELL_ID_x', 'PRODUCT', 'VALUE',\n",
              "       'DATE_TIME', 'CELL_ID_y', 'SITE_ID'],\n",
              "      dtype='object')"
            ]
          },
          "metadata": {
            "tags": []
          },
          "execution_count": 31
        }
      ]
    },
    {
      "cell_type": "markdown",
      "metadata": {
        "id": "9asKg-psI6nE"
      },
      "source": [
        "**ANALYSIS**"
      ]
    },
    {
      "cell_type": "code",
      "metadata": {
        "colab": {
          "base_uri": "https://localhost:8080/"
        },
        "id": "6T9355wd1PJS",
        "outputId": "1ed64136-4a6f-4d18-ce03-7a65ced77286"
      },
      "source": [
        "merged_telecom['VILLES'].value_counts()"
      ],
      "execution_count": 32,
      "outputs": [
        {
          "output_type": "execute_result",
          "data": {
            "text/plain": [
              "YOPOUGON      8417\n",
              "ABOBO         6147\n",
              "COCODY        3704\n",
              "ADJAME        2505\n",
              "KOUMASSI      2275\n",
              "              ... \n",
              "NIABABLY         3\n",
              "DOKE             3\n",
              "TAHIRAGUHE       3\n",
              "DANANON          2\n",
              "KOTOULA          2\n",
              "Name: VILLES, Length: 398, dtype: int64"
            ]
          },
          "metadata": {
            "tags": []
          },
          "execution_count": 32
        }
      ]
    },
    {
      "cell_type": "code",
      "metadata": {
        "colab": {
          "base_uri": "https://localhost:8080/"
        },
        "id": "jfCDXdPiIoJQ",
        "outputId": "3396f87f-2b36-48c7-b5e0-9346e50c7435"
      },
      "source": [
        "#to get the city with the most users\n",
        "cells['VILLES'].value_counts()"
      ],
      "execution_count": 33,
      "outputs": [
        {
          "output_type": "execute_result",
          "data": {
            "text/plain": [
              "COCODY         354\n",
              "YOPOUGON       295\n",
              "ABOBO          255\n",
              "MARCORY        141\n",
              "TREICHVILLE    132\n",
              "              ... \n",
              "ZATTA            3\n",
              "MEMNI            2\n",
              "KOTOULA          2\n",
              "DANANON          1\n",
              "OUANGOLO         1\n",
              "Name: VILLES, Length: 504, dtype: int64"
            ]
          },
          "metadata": {
            "tags": []
          },
          "execution_count": 33
        }
      ]
    },
    {
      "cell_type": "code",
      "metadata": {
        "id": "i4m8yVh-JWkc"
      },
      "source": [
        "#most calls were made by people in the city of cocody"
      ],
      "execution_count": 34,
      "outputs": []
    },
    {
      "cell_type": "code",
      "metadata": {
        "colab": {
          "base_uri": "https://localhost:8080/"
        },
        "id": "YKDha2_Tq4TI",
        "outputId": "7fc47197-e471-496f-a14f-1bd6dc549b31"
      },
      "source": [
        "merged_telecom['CELL_ID_x'].value_counts()"
      ],
      "execution_count": 53,
      "outputs": [
        {
          "output_type": "execute_result",
          "data": {
            "text/plain": [
              "1ce5a37ea9    101\n",
              "d6a6e27eeb    101\n",
              "0c77287c00    101\n",
              "3cd16ca46c    101\n",
              "122a33b94a    101\n",
              "             ... \n",
              "695d25fcc7      1\n",
              "b87e1ca59c      1\n",
              "d1050380c6      1\n",
              "96e0deab61      1\n",
              "ea30e73c42      1\n",
              "Name: CELL_ID_x, Length: 3389, dtype: int64"
            ]
          },
          "metadata": {
            "tags": []
          },
          "execution_count": 53
        }
      ]
    },
    {
      "cell_type": "code",
      "metadata": {
        "colab": {
          "base_uri": "https://localhost:8080/"
        },
        "id": "9CWyL-m0IoLF",
        "outputId": "35080cbb-aaf4-4ad9-e3f1-71ae8d9a51dc"
      },
      "source": [
        "cells['CELL_ID'].value_counts()"
      ],
      "execution_count": 50,
      "outputs": [
        {
          "output_type": "execute_result",
          "data": {
            "text/plain": [
              "6750e0fb7b    39\n",
              "43ee48e4d6     4\n",
              "c76d9f0541     2\n",
              "78513e000d     2\n",
              "f6eaeff103     2\n",
              "              ..\n",
              "025251b51d     1\n",
              "5ee970ecd8     1\n",
              "ffc4c8c1b2     1\n",
              "075b1299fc     1\n",
              "879dbfa2ea     1\n",
              "Name: CELL_ID, Length: 3916, dtype: int64"
            ]
          },
          "metadata": {
            "tags": []
          },
          "execution_count": 50
        }
      ]
    },
    {
      "cell_type": "code",
      "metadata": {
        "id": "FJIDP0tAx-x3"
      },
      "source": [
        "#most calls were made by the owner of the cell id 6750e0fb7b"
      ],
      "execution_count": null,
      "outputs": []
    },
    {
      "cell_type": "code",
      "metadata": {
        "colab": {
          "base_uri": "https://localhost:8080/"
        },
        "id": "eyqOIXJAwHac",
        "outputId": "99925462-5169-4c90-857e-3536170b6d9b"
      },
      "source": [
        "telcom.groupby('CELL_ID')['VALUE'].count()"
      ],
      "execution_count": 72,
      "outputs": [
        {
          "output_type": "execute_result",
          "data": {
            "text/plain": [
              "CELL_ID\n",
              "#NAME?          91\n",
              "+38u2u/rfx      12\n",
              "+854AcBQT2      10\n",
              "+R5ccmtyJf       6\n",
              "+ZaaZozy/+      10\n",
              "              ... \n",
              "ff97ccaf78       4\n",
              "ff99709d62       2\n",
              "ffa6759bb2    1996\n",
              "ffb86d66d2       9\n",
              "ffcc507579       4\n",
              "Name: VALUE, Length: 2666, dtype: int64"
            ]
          },
          "metadata": {
            "tags": []
          },
          "execution_count": 72
        }
      ]
    },
    {
      "cell_type": "code",
      "metadata": {
        "id": "Cq0wydrKIoOC"
      },
      "source": [
        "# the cell id #NAME? had the most value at any one time"
      ],
      "execution_count": 36,
      "outputs": []
    },
    {
      "cell_type": "code",
      "metadata": {
        "colab": {
          "base_uri": "https://localhost:8080/"
        },
        "id": "QTWK_vjpIoQD",
        "outputId": "83dce38d-f601-4c96-c7e6-58cd13f976aa"
      },
      "source": [
        "cells['SITE_CODE'].value_counts()"
      ],
      "execution_count": 37,
      "outputs": [
        {
          "output_type": "execute_result",
          "data": {
            "text/plain": [
              "20387d4292    42\n",
              "5c565fbfb1     9\n",
              "c15166ba4d     9\n",
              "928a59b635     9\n",
              "4d3501719c     8\n",
              "              ..\n",
              "65135293ca     1\n",
              "17329b9161     1\n",
              "8a7cea9d9e     1\n",
              "c2583dcc54     1\n",
              "133150e2f4     1\n",
              "Name: SITE_CODE, Length: 1029, dtype: int64"
            ]
          },
          "metadata": {
            "tags": []
          },
          "execution_count": 37
        }
      ]
    },
    {
      "cell_type": "code",
      "metadata": {
        "id": "vQJbPhPfJlYo"
      },
      "source": [
        "#most calls on site were at site 20387d4292 "
      ],
      "execution_count": 38,
      "outputs": []
    },
    {
      "cell_type": "code",
      "metadata": {
        "colab": {
          "base_uri": "https://localhost:8080/",
          "height": 191
        },
        "id": "9-2LAdOYJ4Sh",
        "outputId": "d9ad0df9-5593-4e16-9e38-21d8c03e1a04"
      },
      "source": [
        "telcom.head()"
      ],
      "execution_count": 39,
      "outputs": [
        {
          "output_type": "execute_result",
          "data": {
            "text/html": [
              "<div>\n",
              "<style scoped>\n",
              "    .dataframe tbody tr th:only-of-type {\n",
              "        vertical-align: middle;\n",
              "    }\n",
              "\n",
              "    .dataframe tbody tr th {\n",
              "        vertical-align: top;\n",
              "    }\n",
              "\n",
              "    .dataframe thead th {\n",
              "        text-align: right;\n",
              "    }\n",
              "</style>\n",
              "<table border=\"1\" class=\"dataframe\">\n",
              "  <thead>\n",
              "    <tr style=\"text-align: right;\">\n",
              "      <th></th>\n",
              "      <th>PRODUCT</th>\n",
              "      <th>VALUE</th>\n",
              "      <th>DATE_TIME</th>\n",
              "      <th>CELL_ON_SITE</th>\n",
              "      <th>DW_A_NUMBER_INT</th>\n",
              "      <th>DW_B_NUMBER_INT</th>\n",
              "      <th>COUNTRY_A</th>\n",
              "      <th>COUNTRY_B</th>\n",
              "      <th>CELL_ID</th>\n",
              "      <th>SITE_ID</th>\n",
              "    </tr>\n",
              "  </thead>\n",
              "  <tbody>\n",
              "    <tr>\n",
              "      <th>0</th>\n",
              "      <td>Voice</td>\n",
              "      <td>0</td>\n",
              "      <td>04:37.0</td>\n",
              "      <td>1</td>\n",
              "      <td>49fae048b547780</td>\n",
              "      <td>1a49f8b0ded9de6</td>\n",
              "      <td>19e2e</td>\n",
              "      <td>19e2e</td>\n",
              "      <td>/TJNe+Mmtu</td>\n",
              "      <td>/TJNe+Mmtu</td>\n",
              "    </tr>\n",
              "    <tr>\n",
              "      <th>1</th>\n",
              "      <td>sms</td>\n",
              "      <td>0</td>\n",
              "      <td>05:25.0</td>\n",
              "      <td>0</td>\n",
              "      <td>7a54a6eaee19e65</td>\n",
              "      <td>93343ba6e41af95</td>\n",
              "      <td>19e2e</td>\n",
              "      <td>19e2e</td>\n",
              "      <td>/+cKZKIp41</td>\n",
              "      <td>/+cKZKIp41</td>\n",
              "    </tr>\n",
              "    <tr>\n",
              "      <th>2</th>\n",
              "      <td>sms</td>\n",
              "      <td>25</td>\n",
              "      <td>05:41.0</td>\n",
              "      <td>0</td>\n",
              "      <td>6008887b0207d82</td>\n",
              "      <td>7aacc9709ce0a20</td>\n",
              "      <td>19e2e</td>\n",
              "      <td>19e2e</td>\n",
              "      <td>/u0FSD+ahi</td>\n",
              "      <td>/u0FSD+ahi</td>\n",
              "    </tr>\n",
              "    <tr>\n",
              "      <th>3</th>\n",
              "      <td>Voice</td>\n",
              "      <td>56</td>\n",
              "      <td>05:42.0</td>\n",
              "      <td>1</td>\n",
              "      <td>7370032e20f4e96</td>\n",
              "      <td>6af4a60e74c91d3</td>\n",
              "      <td>19e2e</td>\n",
              "      <td>19e2e</td>\n",
              "      <td>#NAME?</td>\n",
              "      <td>#NAME?</td>\n",
              "    </tr>\n",
              "    <tr>\n",
              "      <th>4</th>\n",
              "      <td>Voice</td>\n",
              "      <td>14</td>\n",
              "      <td>06:29.0</td>\n",
              "      <td>1</td>\n",
              "      <td>966ba4656e38e62</td>\n",
              "      <td>02aa736ee555d5c</td>\n",
              "      <td>19e2e</td>\n",
              "      <td>19e2e</td>\n",
              "      <td>051KhYDCpv</td>\n",
              "      <td>051KhYDCpv</td>\n",
              "    </tr>\n",
              "  </tbody>\n",
              "</table>\n",
              "</div>"
            ],
            "text/plain": [
              "  PRODUCT  VALUE DATE_TIME  ... COUNTRY_B     CELL_ID     SITE_ID\n",
              "0   Voice      0   04:37.0  ...     19e2e  /TJNe+Mmtu  /TJNe+Mmtu\n",
              "1     sms      0   05:25.0  ...     19e2e  /+cKZKIp41  /+cKZKIp41\n",
              "2     sms     25   05:41.0  ...     19e2e  /u0FSD+ahi  /u0FSD+ahi\n",
              "3   Voice     56   05:42.0  ...     19e2e      #NAME?      #NAME?\n",
              "4   Voice     14   06:29.0  ...     19e2e  051KhYDCpv  051KhYDCpv\n",
              "\n",
              "[5 rows x 10 columns]"
            ]
          },
          "metadata": {
            "tags": []
          },
          "execution_count": 39
        }
      ]
    },
    {
      "cell_type": "code",
      "metadata": {
        "id": "ST_p1WpQJ4UL",
        "colab": {
          "base_uri": "https://localhost:8080/"
        },
        "outputId": "946c3d45-1c98-4ad6-88e0-578dc86be509"
      },
      "source": [
        "#which is the most used product\n",
        "telcom['PRODUCT'].value_counts()"
      ],
      "execution_count": 40,
      "outputs": [
        {
          "output_type": "execute_result",
          "data": {
            "text/plain": [
              "sms      7071\n",
              "Voice    5666\n",
              "data     2266\n",
              "Name: PRODUCT, dtype: int64"
            ]
          },
          "metadata": {
            "tags": []
          },
          "execution_count": 40
        }
      ]
    },
    {
      "cell_type": "code",
      "metadata": {
        "colab": {
          "base_uri": "https://localhost:8080/",
          "height": 587
        },
        "id": "WlFTS6TyW5GY",
        "outputId": "7def6a3c-1abf-461a-b954-305411b97151"
      },
      "source": [
        "plt.figure(figsize=(10,10))\n",
        "plt.title('MTN PRODUCTS USAGE', fontdict={'fontsize':10},color='blue')\n",
        "my_labels='sms','Voice','data'\n",
        "explode=0,0,0.1\n",
        "plt.pie(telcom['PRODUCT'].value_counts(),labels=my_labels,explode=explode, autopct='%1.3f%%')\n",
        "plt.show()"
      ],
      "execution_count": 41,
      "outputs": [
        {
          "output_type": "display_data",
          "data": {
            "image/png": "[encoded data removed]",
            "text/plain": [
              "<Figure size 720x720 with 1 Axes>"
            ]
          },
          "metadata": {
            "tags": []
          }
        }
      ]
    },
    {
      "cell_type": "code",
      "metadata": {
        "id": "zHYcqJbUJ4X0"
      },
      "source": [
        "# from above we can see that most people used sms"
      ],
      "execution_count": 42,
      "outputs": []
    },
    {
      "cell_type": "code",
      "metadata": {
        "id": "htLrnt2PJ4ZK",
        "colab": {
          "base_uri": "https://localhost:8080/"
        },
        "outputId": "a61d8243-9cad-4199-a48f-f26de081bace"
      },
      "source": [
        "# group products with value\n",
        "\n",
        "product_value=telcom.groupby('PRODUCT')['VALUE'].mean()\n",
        "product_value"
      ],
      "execution_count": 43,
      "outputs": [
        {
          "output_type": "execute_result",
          "data": {
            "text/plain": [
              "PRODUCT\n",
              "Voice    55.169961\n",
              "data      7.628861\n",
              "sms       7.555791\n",
              "Name: VALUE, dtype: float64"
            ]
          },
          "metadata": {
            "tags": []
          },
          "execution_count": 43
        }
      ]
    },
    {
      "cell_type": "code",
      "metadata": {
        "colab": {
          "base_uri": "https://localhost:8080/",
          "height": 637
        },
        "id": "UJNJt1fEcLab",
        "outputId": "0e5fb642-1a90-4fa6-996e-f041901dfa8c"
      },
      "source": [
        "plt.figure(figsize=(10,10))\n",
        "plt.title('Bar Plot of Proucts visa vis the average price for them',fontdict={'fontsize':12},color='blue')\n",
        "plt.xlabel('product')\n",
        "plt.ylabel('average price')\n",
        "product_value.plot(kind='bar')\n",
        "plt.show()"
      ],
      "execution_count": 44,
      "outputs": [
        {
          "output_type": "display_data",
          "data": {
            "image/png": "[encoded data removed]",
            "text/plain": [
              "<Figure size 720x720 with 1 Axes>"
            ]
          },
          "metadata": {
            "tags": [],
            "needs_background": "light"
          }
        }
      ]
    },
    {
      "cell_type": "code",
      "metadata": {
        "id": "YoahOsWJbqE6"
      },
      "source": [
        "# from the above we can see that the product that generated the most income for MTN is calls.\n",
        "# The income that MTN got from it was almost 8 times that of both data and sms"
      ],
      "execution_count": 45,
      "outputs": []
    },
    {
      "cell_type": "code",
      "metadata": {
        "id": "bfTqivw9dqA4"
      },
      "source": [
        ""
      ],
      "execution_count": 45,
      "outputs": []
    },
    {
      "cell_type": "code",
      "metadata": {
        "colab": {
          "base_uri": "https://localhost:8080/"
        },
        "id": "LSt_-uardqWK",
        "outputId": "3b56e4a7-fca1-4716-e543-0c17b4f91612"
      },
      "source": [
        "# to look at which day it was most busiest\n",
        "telcom.dtypes"
      ],
      "execution_count": 46,
      "outputs": [
        {
          "output_type": "execute_result",
          "data": {
            "text/plain": [
              "PRODUCT            object\n",
              "VALUE               int64\n",
              "DATE_TIME          object\n",
              "CELL_ON_SITE       object\n",
              "DW_A_NUMBER_INT    object\n",
              "DW_B_NUMBER_INT    object\n",
              "COUNTRY_A          object\n",
              "COUNTRY_B          object\n",
              "CELL_ID            object\n",
              "SITE_ID            object\n",
              "dtype: object"
            ]
          },
          "metadata": {
            "tags": []
          },
          "execution_count": 46
        }
      ]
    },
    {
      "cell_type": "code",
      "metadata": {
        "colab": {
          "base_uri": "https://localhost:8080/"
        },
        "id": "AsrNsLVed7X3",
        "outputId": "68c3aa0a-c4dc-4a79-f71c-9e8a7c4f8eb7"
      },
      "source": [
        "# the area with teh most user\n",
        "cells['AREA'].value_counts()"
      ],
      "execution_count": 76,
      "outputs": [
        {
          "output_type": "execute_result",
          "data": {
            "text/plain": [
              "ABIDJAN NORTH    1222\n",
              "ABIDJAN SOUTH     655\n",
              "CENTRE NORTH      615\n",
              "NORTH WEST        583\n",
              "SOUTH WEST        534\n",
              "EAST              342\n",
              "unknown            23\n",
              "Name: AREA, dtype: int64"
            ]
          },
          "metadata": {
            "tags": []
          },
          "execution_count": 76
        }
      ]
    }
  ]
}